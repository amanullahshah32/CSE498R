{
 "cells": [
  {
   "cell_type": "markdown",
   "metadata": {
    "id": "ongjKAbfHuiN"
   },
   "source": [
    "# **Sentiment Analysis**"
   ]
  },
  {
   "cell_type": "markdown",
   "metadata": {
    "id": "e3IANFRCIVyc"
   },
   "source": [
    "This is a notebook containing **Sentiment Analysis** Mini Project on *Amazon Musical Instruments Reviews*. I am interested in Natural Language Processing and that is my motivation to make this project. I think that sentiment analysis has a really powerful impacts in business developments because we can gain so many insights from here."
   ]
  },
  {
   "cell_type": "markdown",
   "metadata": {
    "id": "klB2LEACJT-i"
   },
   "source": [
    "\n",
    "\n",
    "---\n",
    "\n"
   ]
  },
  {
   "cell_type": "markdown",
   "metadata": {
    "id": "bYlonQXTqdsb"
   },
   "source": [
    "# Libraries"
   ]
  },
  {
   "cell_type": "markdown",
   "metadata": {
    "id": "nLPslv2kJd_q"
   },
   "source": [
    "**Data Libraries**"
   ]
  },
  {
   "cell_type": "code",
   "execution_count": 1,
   "metadata": {
    "id": "OKnf1Te2JiKr"
   },
   "outputs": [],
   "source": [
    "import pandas as pd\n",
    "import numpy as np\n",
    "import matplotlib.pyplot as plt"
   ]
  },
  {
   "cell_type": "markdown",
   "metadata": {
    "id": "MK4hJYtj26ze"
   },
   "source": [
    "**NLP Text Libraries**"
   ]
  },
  {
   "cell_type": "code",
   "execution_count": 2,
   "metadata": {
    "id": "pCCcJZIq27XQ"
   },
   "outputs": [
    {
     "name": "stderr",
     "output_type": "stream",
     "text": [
      "[nltk_data] Downloading package punkt to\n",
      "[nltk_data]     C:\\Users\\USER\\AppData\\Roaming\\nltk_data...\n",
      "[nltk_data]   Package punkt is already up-to-date!\n",
      "[nltk_data] Downloading package stopwords to\n",
      "[nltk_data]     C:\\Users\\USER\\AppData\\Roaming\\nltk_data...\n",
      "[nltk_data]   Package stopwords is already up-to-date!\n",
      "[nltk_data] Downloading package wordnet to\n",
      "[nltk_data]     C:\\Users\\USER\\AppData\\Roaming\\nltk_data...\n",
      "[nltk_data]   Package wordnet is already up-to-date!\n"
     ]
    }
   ],
   "source": [
    "import string\n",
    "import re\n",
    "import nltk\n",
    "import nltk.corpus\n",
    "nltk.download(\"punkt\")\n",
    "nltk.download(\"stopwords\")\n",
    "nltk.download(\"wordnet\")\n",
    "from nltk.stem import WordNetLemmatizer"
   ]
  },
  {
   "cell_type": "markdown",
   "metadata": {
    "id": "JtEfdUiq3GUa"
   },
   "source": [
    "**EDA Analysis**"
   ]
  },
  {
   "cell_type": "code",
   "execution_count": 3,
   "metadata": {
    "id": "UbcdiNne3KHh"
   },
   "outputs": [],
   "source": [
    "# Text Polarity\n",
    "from textblob import TextBlob\n",
    "\n",
    "\n",
    "# Text Vectorizer\n",
    "from sklearn.feature_extraction.text import CountVectorizer\n",
    "\n",
    "# Word Cloud\n",
    "from wordcloud import WordCloud"
   ]
  },
  {
   "cell_type": "code",
   "execution_count": null,
   "metadata": {},
   "outputs": [],
   "source": []
  },
  {
   "cell_type": "code",
   "execution_count": null,
   "metadata": {},
   "outputs": [],
   "source": []
  },
  {
   "cell_type": "markdown",
   "metadata": {
    "id": "nkQ7465U3glG"
   },
   "source": [
    "**Feature Engineering**"
   ]
  },
  {
   "cell_type": "code",
   "execution_count": 4,
   "metadata": {
    "id": "6fhwyQzB3nXp"
   },
   "outputs": [],
   "source": [
    "# Label Encoding\n",
    "from sklearn.preprocessing import LabelEncoder\n",
    "\n",
    "# TF-IDF Vectorizer\n",
    "from sklearn.feature_extraction.text import TfidfVectorizer\n",
    "\n",
    "# Resampling\n",
    "from imblearn.over_sampling import SMOTE\n",
    "from collections import Counter\n",
    "\n",
    "# Splitting Dataset\n",
    "from sklearn.model_selection import train_test_split"
   ]
  },
  {
   "cell_type": "markdown",
   "metadata": {
    "id": "3Q-F0wVH39N_"
   },
   "source": [
    "**Model Selection and Evaluation**"
   ]
  },
  {
   "cell_type": "code",
   "execution_count": 5,
   "metadata": {
    "id": "8ZVnb3z04BRU"
   },
   "outputs": [],
   "source": [
    "# Model Building\n",
    "from sklearn.svm import SVC\n",
    "from sklearn.tree import DecisionTreeClassifier\n",
    "from sklearn.linear_model import LogisticRegression\n",
    "from sklearn.ensemble import RandomForestClassifier\n",
    "from sklearn.naive_bayes import BernoulliNB\n",
    "from sklearn.neighbors import KNeighborsClassifier\n",
    "from sklearn.model_selection import cross_val_score\n",
    "\n",
    "# Hyperparameter Tuning\n",
    "from sklearn.model_selection import GridSearchCV\n",
    "\n",
    "# Model Metrics\n",
    "from sklearn.metrics import confusion_matrix, accuracy_score, classification_report"
   ]
  },
  {
   "cell_type": "markdown",
   "metadata": {
    "id": "e7P3MfO4rAo5"
   },
   "source": [
    "\n",
    "\n",
    "---\n",
    "\n"
   ]
  },
  {
   "cell_type": "markdown",
   "metadata": {
    "id": "iHGQtriJqr5b"
   },
   "source": [
    "# The Dataset"
   ]
  },
  {
   "cell_type": "markdown",
   "metadata": {
    "id": "CnvxGfForHrU"
   },
   "source": [
    "*The dataset that we will use is taken from `Kaggle` website and can be downloaded here:*\n",
    "\n",
    "[`Amazon Musical Instruments Reviews`](https://www.kaggle.com/eswarchandt/amazon-music-reviews?select=Musical_instruments_reviews.csv)\n",
    "\n",
    "*There are two formats available of the dataset: `JSON` and `CSV`. We will use the `CSV` one in this project.*\n",
    "\n",
    "*Overall, the dataset talks about the feedback received after the customers purchased musical instruments from `Amazon`.*"
   ]
  },
  {
   "cell_type": "markdown",
   "metadata": {
    "id": "lTMTNbaTMYaq"
   },
   "source": [
    "**Read The Dataset**"
   ]
  },
  {
   "cell_type": "code",
   "execution_count": 6,
   "metadata": {
    "id": "9VjFT2uzMdkh"
   },
   "outputs": [
    {
     "data": {
      "text/html": [
       "<div>\n",
       "<style scoped>\n",
       "    .dataframe tbody tr th:only-of-type {\n",
       "        vertical-align: middle;\n",
       "    }\n",
       "\n",
       "    .dataframe tbody tr th {\n",
       "        vertical-align: top;\n",
       "    }\n",
       "\n",
       "    .dataframe thead th {\n",
       "        text-align: right;\n",
       "    }\n",
       "</style>\n",
       "<table border=\"1\" class=\"dataframe\">\n",
       "  <thead>\n",
       "    <tr style=\"text-align: right;\">\n",
       "      <th></th>\n",
       "      <th>source</th>\n",
       "      <th>review_id</th>\n",
       "      <th>user_name</th>\n",
       "      <th>review_title</th>\n",
       "      <th>review_description</th>\n",
       "      <th>rating</th>\n",
       "      <th>thumbs_up</th>\n",
       "      <th>review_date</th>\n",
       "      <th>developer_response</th>\n",
       "      <th>developer_response_date</th>\n",
       "      <th>appVersion</th>\n",
       "      <th>language_code</th>\n",
       "      <th>country_code</th>\n",
       "      <th>app_name</th>\n",
       "    </tr>\n",
       "  </thead>\n",
       "  <tbody>\n",
       "    <tr>\n",
       "      <th>0</th>\n",
       "      <td>Google Play</td>\n",
       "      <td>f18a5ffe-872c-4f63-bf38-2c0eb5a52170</td>\n",
       "      <td>A Google user</td>\n",
       "      <td>NaN</td>\n",
       "      <td>The apps useful. Best service</td>\n",
       "      <td>5</td>\n",
       "      <td>0</td>\n",
       "      <td>2024-10-10 10:36:15</td>\n",
       "      <td>NaN</td>\n",
       "      <td>NaN</td>\n",
       "      <td>2.1.8</td>\n",
       "      <td>en</td>\n",
       "      <td>us</td>\n",
       "      <td>com.twgbd.dims</td>\n",
       "    </tr>\n",
       "    <tr>\n",
       "      <th>1</th>\n",
       "      <td>Google Play</td>\n",
       "      <td>79ea060a-e2fb-44e5-a2b1-8525f21b5323</td>\n",
       "      <td>A Google user</td>\n",
       "      <td>NaN</td>\n",
       "      <td>very interestin</td>\n",
       "      <td>5</td>\n",
       "      <td>0</td>\n",
       "      <td>2024-10-10 06:56:36</td>\n",
       "      <td>NaN</td>\n",
       "      <td>NaN</td>\n",
       "      <td>2.1.8</td>\n",
       "      <td>en</td>\n",
       "      <td>us</td>\n",
       "      <td>com.twgbd.dims</td>\n",
       "    </tr>\n",
       "    <tr>\n",
       "      <th>2</th>\n",
       "      <td>Google Play</td>\n",
       "      <td>53f9e22f-cbb4-48ee-9e1b-a339ad4760ca</td>\n",
       "      <td>A Google user</td>\n",
       "      <td>NaN</td>\n",
       "      <td>good apps</td>\n",
       "      <td>5</td>\n",
       "      <td>0</td>\n",
       "      <td>2024-10-10 06:52:01</td>\n",
       "      <td>NaN</td>\n",
       "      <td>NaN</td>\n",
       "      <td>2.1.8</td>\n",
       "      <td>en</td>\n",
       "      <td>us</td>\n",
       "      <td>com.twgbd.dims</td>\n",
       "    </tr>\n",
       "    <tr>\n",
       "      <th>3</th>\n",
       "      <td>Google Play</td>\n",
       "      <td>4170d3ff-6f9f-45f6-910f-04a131b4a081</td>\n",
       "      <td>A Google user</td>\n",
       "      <td>NaN</td>\n",
       "      <td>very nice app</td>\n",
       "      <td>5</td>\n",
       "      <td>0</td>\n",
       "      <td>2024-10-10 06:46:15</td>\n",
       "      <td>NaN</td>\n",
       "      <td>NaN</td>\n",
       "      <td>2.1.8</td>\n",
       "      <td>en</td>\n",
       "      <td>us</td>\n",
       "      <td>com.twgbd.dims</td>\n",
       "    </tr>\n",
       "    <tr>\n",
       "      <th>4</th>\n",
       "      <td>Google Play</td>\n",
       "      <td>16e82105-ecb2-45ca-be80-9283490047ed</td>\n",
       "      <td>A Google user</td>\n",
       "      <td>NaN</td>\n",
       "      <td>good apps</td>\n",
       "      <td>5</td>\n",
       "      <td>0</td>\n",
       "      <td>2024-10-10 05:35:54</td>\n",
       "      <td>NaN</td>\n",
       "      <td>NaN</td>\n",
       "      <td>2.1.8</td>\n",
       "      <td>en</td>\n",
       "      <td>us</td>\n",
       "      <td>com.twgbd.dims</td>\n",
       "    </tr>\n",
       "  </tbody>\n",
       "</table>\n",
       "</div>"
      ],
      "text/plain": [
       "        source                             review_id      user_name  \\\n",
       "0  Google Play  f18a5ffe-872c-4f63-bf38-2c0eb5a52170  A Google user   \n",
       "1  Google Play  79ea060a-e2fb-44e5-a2b1-8525f21b5323  A Google user   \n",
       "2  Google Play  53f9e22f-cbb4-48ee-9e1b-a339ad4760ca  A Google user   \n",
       "3  Google Play  4170d3ff-6f9f-45f6-910f-04a131b4a081  A Google user   \n",
       "4  Google Play  16e82105-ecb2-45ca-be80-9283490047ed  A Google user   \n",
       "\n",
       "   review_title             review_description  rating  thumbs_up  \\\n",
       "0           NaN  The apps useful. Best service       5          0   \n",
       "1           NaN                very interestin       5          0   \n",
       "2           NaN                      good apps       5          0   \n",
       "3           NaN                  very nice app       5          0   \n",
       "4           NaN                      good apps       5          0   \n",
       "\n",
       "           review_date developer_response developer_response_date appVersion  \\\n",
       "0  2024-10-10 10:36:15                NaN                     NaN      2.1.8   \n",
       "1  2024-10-10 06:56:36                NaN                     NaN      2.1.8   \n",
       "2  2024-10-10 06:52:01                NaN                     NaN      2.1.8   \n",
       "3  2024-10-10 06:46:15                NaN                     NaN      2.1.8   \n",
       "4  2024-10-10 05:35:54                NaN                     NaN      2.1.8   \n",
       "\n",
       "  language_code country_code        app_name  \n",
       "0            en           us  com.twgbd.dims  \n",
       "1            en           us  com.twgbd.dims  \n",
       "2            en           us  com.twgbd.dims  \n",
       "3            en           us  com.twgbd.dims  \n",
       "4            en           us  com.twgbd.dims  "
      ]
     },
     "execution_count": 6,
     "metadata": {},
     "output_type": "execute_result"
    }
   ],
   "source": [
    "url = 'https://raw.githubusercontent.com/amanullahshah32/Review-Scraping/refs/heads/main/Dataset/cleaned_dataset.csv'\n",
    "dataset = pd.read_csv(url)\n",
    "dataset.head()"
   ]
  },
  {
   "cell_type": "markdown",
   "metadata": {
    "id": "Y9R9JlB_XlQj"
   },
   "source": [
    "**Shape of The Dataset**"
   ]
  },
  {
   "cell_type": "code",
   "execution_count": 10,
   "metadata": {
    "colab": {
     "base_uri": "https://localhost:8080/"
    },
    "id": "Oqyu2S8-XnMt",
    "outputId": "cac30f1d-f7f8-45b6-8f4f-7c71cfda71bc"
   },
   "outputs": [
    {
     "data": {
      "text/plain": [
       "(65270, 14)"
      ]
     },
     "execution_count": 10,
     "metadata": {},
     "output_type": "execute_result"
    }
   ],
   "source": [
    "dataset.shape"
   ]
  },
  {
   "cell_type": "markdown",
   "metadata": {
    "id": "WtI2Q6ZaX_Me"
   },
   "source": [
    "*From this, we can infer that the dataset consists of 10261 rows and 9 columns.*"
   ]
  },
  {
   "cell_type": "markdown",
   "metadata": {
    "id": "iHDaIkiNq-69"
   },
   "source": [
    "\n",
    "\n",
    "---\n",
    "\n"
   ]
  },
  {
   "cell_type": "markdown",
   "metadata": {
    "id": "dW_gX7TisCPY"
   },
   "source": [
    "# Data Preprocessing"
   ]
  },
  {
   "cell_type": "markdown",
   "metadata": {
    "id": "ADHd-9LLj5Dd"
   },
   "source": [
    "**Checking Null Values**"
   ]
  },
  {
   "cell_type": "code",
   "execution_count": 11,
   "metadata": {
    "colab": {
     "base_uri": "https://localhost:8080/"
    },
    "id": "BM-K5k5Cf4TO",
    "outputId": "d51b9f6e-cfc1-4254-bf6b-4e0424e87119"
   },
   "outputs": [
    {
     "data": {
      "text/plain": [
       "source                         0\n",
       "review_id                      0\n",
       "user_name                      0\n",
       "review_title               65270\n",
       "review_description             0\n",
       "rating                         0\n",
       "thumbs_up                      0\n",
       "review_date                    0\n",
       "developer_response         54917\n",
       "developer_response_date    54917\n",
       "appVersion                  9231\n",
       "language_code                  0\n",
       "country_code                   0\n",
       "app_name                       0\n",
       "dtype: int64"
      ]
     },
     "execution_count": 11,
     "metadata": {},
     "output_type": "execute_result"
    }
   ],
   "source": [
    "dataset.isnull().sum()"
   ]
  },
  {
   "cell_type": "markdown",
   "metadata": {
    "id": "rEwy5qHQka8P"
   },
   "source": [
    "*From above, there are two columns in the dataset with null values: `reviewText` and `reviewerName`. While the latter one is not really important, we should focus on the first column. We cannot remove these rows because the ratings and summary given from the customers will have some effects to our model later (although the number of missing rows is small). Because of it, we can fill the empty values with an empty string.*"
   ]
  },
  {
   "cell_type": "markdown",
   "metadata": {
    "id": "Ixbi3n-hrihj"
   },
   "source": [
    "**Filling Missing Values**"
   ]
  },
  {
   "cell_type": "code",
   "execution_count": 13,
   "metadata": {
    "id": "iAPP2bwKf_yZ"
   },
   "outputs": [
    {
     "name": "stderr",
     "output_type": "stream",
     "text": [
      "C:\\Users\\USER\\AppData\\Local\\Temp\\ipykernel_5948\\1222920262.py:1: FutureWarning: A value is trying to be set on a copy of a DataFrame or Series through chained assignment using an inplace method.\n",
      "The behavior will change in pandas 3.0. This inplace method will never work because the intermediate object on which we are setting values always behaves as a copy.\n",
      "\n",
      "For example, when doing 'df[col].method(value, inplace=True)', try using 'df.method({col: value}, inplace=True)' or df[col] = df[col].method(value) instead, to perform the operation inplace on the original object.\n",
      "\n",
      "\n",
      "  dataset.review_description.fillna(value = \"\", inplace = True)\n"
     ]
    }
   ],
   "source": [
    "dataset.review_description.fillna(value = \"\", inplace = True)"
   ]
  },
  {
   "cell_type": "markdown",
   "metadata": {
    "id": "mGVfh4qKy40f"
   },
   "source": [
    "**Concatenate `review_description` and `summary` Columns**"
   ]
  },
  {
   "cell_type": "code",
   "execution_count": null,
   "metadata": {
    "id": "8QmjDCfIzC80"
   },
   "outputs": [],
   "source": [
    "# dataset[\"reviews\"] = dataset[\"reviewText\"] + \" \" + dataset[\"summary\"]\n",
    "# dataset.drop(columns = [\"reviewText\", \"summary\"], axis = 1, inplace = True)"
   ]
  },
  {
   "cell_type": "code",
   "execution_count": 15,
   "metadata": {},
   "outputs": [
    {
     "name": "stdout",
     "output_type": "stream",
     "text": [
      "<class 'pandas.core.frame.DataFrame'>\n",
      "RangeIndex: 65270 entries, 0 to 65269\n",
      "Data columns (total 14 columns):\n",
      " #   Column                   Non-Null Count  Dtype  \n",
      "---  ------                   --------------  -----  \n",
      " 0   source                   65270 non-null  object \n",
      " 1   review_id                65270 non-null  object \n",
      " 2   user_name                65270 non-null  object \n",
      " 3   review_title             0 non-null      float64\n",
      " 4   review_description       65270 non-null  object \n",
      " 5   rating                   65270 non-null  int64  \n",
      " 6   thumbs_up                65270 non-null  int64  \n",
      " 7   review_date              65270 non-null  object \n",
      " 8   developer_response       10353 non-null  object \n",
      " 9   developer_response_date  10353 non-null  object \n",
      " 10  appVersion               56039 non-null  object \n",
      " 11  language_code            65270 non-null  object \n",
      " 12  country_code             65270 non-null  object \n",
      " 13  app_name                 65270 non-null  object \n",
      "dtypes: float64(1), int64(2), object(11)\n",
      "memory usage: 7.0+ MB\n"
     ]
    }
   ],
   "source": [
    "dataset.info()"
   ]
  },
  {
   "cell_type": "markdown",
   "metadata": {
    "id": "nJl_pwi-ZO5y"
   },
   "source": [
    "**Statistic Description of The Dataset**"
   ]
  },
  {
   "cell_type": "code",
   "execution_count": 14,
   "metadata": {
    "colab": {
     "base_uri": "https://localhost:8080/",
     "height": 373
    },
    "id": "Vcle9XdNZb3L",
    "outputId": "e3d1a9bc-9edb-48c2-feee-9090a0690927"
   },
   "outputs": [
    {
     "data": {
      "text/html": [
       "<div>\n",
       "<style scoped>\n",
       "    .dataframe tbody tr th:only-of-type {\n",
       "        vertical-align: middle;\n",
       "    }\n",
       "\n",
       "    .dataframe tbody tr th {\n",
       "        vertical-align: top;\n",
       "    }\n",
       "\n",
       "    .dataframe thead th {\n",
       "        text-align: right;\n",
       "    }\n",
       "</style>\n",
       "<table border=\"1\" class=\"dataframe\">\n",
       "  <thead>\n",
       "    <tr style=\"text-align: right;\">\n",
       "      <th></th>\n",
       "      <th>source</th>\n",
       "      <th>review_id</th>\n",
       "      <th>user_name</th>\n",
       "      <th>review_title</th>\n",
       "      <th>review_description</th>\n",
       "      <th>rating</th>\n",
       "      <th>thumbs_up</th>\n",
       "      <th>review_date</th>\n",
       "      <th>developer_response</th>\n",
       "      <th>developer_response_date</th>\n",
       "      <th>appVersion</th>\n",
       "      <th>language_code</th>\n",
       "      <th>country_code</th>\n",
       "      <th>app_name</th>\n",
       "    </tr>\n",
       "  </thead>\n",
       "  <tbody>\n",
       "    <tr>\n",
       "      <th>count</th>\n",
       "      <td>65270</td>\n",
       "      <td>65270</td>\n",
       "      <td>65270</td>\n",
       "      <td>0.0</td>\n",
       "      <td>65270</td>\n",
       "      <td>65270.000000</td>\n",
       "      <td>65270.000000</td>\n",
       "      <td>65270</td>\n",
       "      <td>10353</td>\n",
       "      <td>10353</td>\n",
       "      <td>56039</td>\n",
       "      <td>65270</td>\n",
       "      <td>65270</td>\n",
       "      <td>65270</td>\n",
       "    </tr>\n",
       "    <tr>\n",
       "      <th>unique</th>\n",
       "      <td>1</td>\n",
       "      <td>65270</td>\n",
       "      <td>6924</td>\n",
       "      <td>NaN</td>\n",
       "      <td>53889</td>\n",
       "      <td>NaN</td>\n",
       "      <td>NaN</td>\n",
       "      <td>65259</td>\n",
       "      <td>5988</td>\n",
       "      <td>10350</td>\n",
       "      <td>1150</td>\n",
       "      <td>1</td>\n",
       "      <td>1</td>\n",
       "      <td>41</td>\n",
       "    </tr>\n",
       "    <tr>\n",
       "      <th>top</th>\n",
       "      <td>Google Play</td>\n",
       "      <td>f18a5ffe-872c-4f63-bf38-2c0eb5a52170</td>\n",
       "      <td>A Google user</td>\n",
       "      <td>NaN</td>\n",
       "      <td>Good app</td>\n",
       "      <td>NaN</td>\n",
       "      <td>NaN</td>\n",
       "      <td>2024-09-26 06:35:40</td>\n",
       "      <td>Thank you very much. Keep using our app :)</td>\n",
       "      <td>2022-09-14 00:15:29</td>\n",
       "      <td>1.0</td>\n",
       "      <td>en</td>\n",
       "      <td>us</td>\n",
       "      <td>com.lbrc.PeriodCalendar</td>\n",
       "    </tr>\n",
       "    <tr>\n",
       "      <th>freq</th>\n",
       "      <td>65270</td>\n",
       "      <td>1</td>\n",
       "      <td>58173</td>\n",
       "      <td>NaN</td>\n",
       "      <td>911</td>\n",
       "      <td>NaN</td>\n",
       "      <td>NaN</td>\n",
       "      <td>2</td>\n",
       "      <td>504</td>\n",
       "      <td>2</td>\n",
       "      <td>3515</td>\n",
       "      <td>65270</td>\n",
       "      <td>65270</td>\n",
       "      <td>22986</td>\n",
       "    </tr>\n",
       "    <tr>\n",
       "      <th>mean</th>\n",
       "      <td>NaN</td>\n",
       "      <td>NaN</td>\n",
       "      <td>NaN</td>\n",
       "      <td>NaN</td>\n",
       "      <td>NaN</td>\n",
       "      <td>4.438318</td>\n",
       "      <td>2.924514</td>\n",
       "      <td>NaN</td>\n",
       "      <td>NaN</td>\n",
       "      <td>NaN</td>\n",
       "      <td>NaN</td>\n",
       "      <td>NaN</td>\n",
       "      <td>NaN</td>\n",
       "      <td>NaN</td>\n",
       "    </tr>\n",
       "    <tr>\n",
       "      <th>std</th>\n",
       "      <td>NaN</td>\n",
       "      <td>NaN</td>\n",
       "      <td>NaN</td>\n",
       "      <td>NaN</td>\n",
       "      <td>NaN</td>\n",
       "      <td>1.188981</td>\n",
       "      <td>33.937940</td>\n",
       "      <td>NaN</td>\n",
       "      <td>NaN</td>\n",
       "      <td>NaN</td>\n",
       "      <td>NaN</td>\n",
       "      <td>NaN</td>\n",
       "      <td>NaN</td>\n",
       "      <td>NaN</td>\n",
       "    </tr>\n",
       "    <tr>\n",
       "      <th>min</th>\n",
       "      <td>NaN</td>\n",
       "      <td>NaN</td>\n",
       "      <td>NaN</td>\n",
       "      <td>NaN</td>\n",
       "      <td>NaN</td>\n",
       "      <td>0.000000</td>\n",
       "      <td>0.000000</td>\n",
       "      <td>NaN</td>\n",
       "      <td>NaN</td>\n",
       "      <td>NaN</td>\n",
       "      <td>NaN</td>\n",
       "      <td>NaN</td>\n",
       "      <td>NaN</td>\n",
       "      <td>NaN</td>\n",
       "    </tr>\n",
       "    <tr>\n",
       "      <th>25%</th>\n",
       "      <td>NaN</td>\n",
       "      <td>NaN</td>\n",
       "      <td>NaN</td>\n",
       "      <td>NaN</td>\n",
       "      <td>NaN</td>\n",
       "      <td>5.000000</td>\n",
       "      <td>0.000000</td>\n",
       "      <td>NaN</td>\n",
       "      <td>NaN</td>\n",
       "      <td>NaN</td>\n",
       "      <td>NaN</td>\n",
       "      <td>NaN</td>\n",
       "      <td>NaN</td>\n",
       "      <td>NaN</td>\n",
       "    </tr>\n",
       "    <tr>\n",
       "      <th>50%</th>\n",
       "      <td>NaN</td>\n",
       "      <td>NaN</td>\n",
       "      <td>NaN</td>\n",
       "      <td>NaN</td>\n",
       "      <td>NaN</td>\n",
       "      <td>5.000000</td>\n",
       "      <td>0.000000</td>\n",
       "      <td>NaN</td>\n",
       "      <td>NaN</td>\n",
       "      <td>NaN</td>\n",
       "      <td>NaN</td>\n",
       "      <td>NaN</td>\n",
       "      <td>NaN</td>\n",
       "      <td>NaN</td>\n",
       "    </tr>\n",
       "    <tr>\n",
       "      <th>75%</th>\n",
       "      <td>NaN</td>\n",
       "      <td>NaN</td>\n",
       "      <td>NaN</td>\n",
       "      <td>NaN</td>\n",
       "      <td>NaN</td>\n",
       "      <td>5.000000</td>\n",
       "      <td>0.000000</td>\n",
       "      <td>NaN</td>\n",
       "      <td>NaN</td>\n",
       "      <td>NaN</td>\n",
       "      <td>NaN</td>\n",
       "      <td>NaN</td>\n",
       "      <td>NaN</td>\n",
       "      <td>NaN</td>\n",
       "    </tr>\n",
       "    <tr>\n",
       "      <th>max</th>\n",
       "      <td>NaN</td>\n",
       "      <td>NaN</td>\n",
       "      <td>NaN</td>\n",
       "      <td>NaN</td>\n",
       "      <td>NaN</td>\n",
       "      <td>5.000000</td>\n",
       "      <td>4731.000000</td>\n",
       "      <td>NaN</td>\n",
       "      <td>NaN</td>\n",
       "      <td>NaN</td>\n",
       "      <td>NaN</td>\n",
       "      <td>NaN</td>\n",
       "      <td>NaN</td>\n",
       "      <td>NaN</td>\n",
       "    </tr>\n",
       "  </tbody>\n",
       "</table>\n",
       "</div>"
      ],
      "text/plain": [
       "             source                             review_id      user_name  \\\n",
       "count         65270                                 65270          65270   \n",
       "unique            1                                 65270           6924   \n",
       "top     Google Play  f18a5ffe-872c-4f63-bf38-2c0eb5a52170  A Google user   \n",
       "freq          65270                                     1          58173   \n",
       "mean            NaN                                   NaN            NaN   \n",
       "std             NaN                                   NaN            NaN   \n",
       "min             NaN                                   NaN            NaN   \n",
       "25%             NaN                                   NaN            NaN   \n",
       "50%             NaN                                   NaN            NaN   \n",
       "75%             NaN                                   NaN            NaN   \n",
       "max             NaN                                   NaN            NaN   \n",
       "\n",
       "        review_title review_description        rating     thumbs_up  \\\n",
       "count            0.0              65270  65270.000000  65270.000000   \n",
       "unique           NaN              53889           NaN           NaN   \n",
       "top              NaN           Good app           NaN           NaN   \n",
       "freq             NaN                911           NaN           NaN   \n",
       "mean             NaN                NaN      4.438318      2.924514   \n",
       "std              NaN                NaN      1.188981     33.937940   \n",
       "min              NaN                NaN      0.000000      0.000000   \n",
       "25%              NaN                NaN      5.000000      0.000000   \n",
       "50%              NaN                NaN      5.000000      0.000000   \n",
       "75%              NaN                NaN      5.000000      0.000000   \n",
       "max              NaN                NaN      5.000000   4731.000000   \n",
       "\n",
       "                review_date                          developer_response  \\\n",
       "count                 65270                                       10353   \n",
       "unique                65259                                        5988   \n",
       "top     2024-09-26 06:35:40  Thank you very much. Keep using our app :)   \n",
       "freq                      2                                         504   \n",
       "mean                    NaN                                         NaN   \n",
       "std                     NaN                                         NaN   \n",
       "min                     NaN                                         NaN   \n",
       "25%                     NaN                                         NaN   \n",
       "50%                     NaN                                         NaN   \n",
       "75%                     NaN                                         NaN   \n",
       "max                     NaN                                         NaN   \n",
       "\n",
       "       developer_response_date appVersion language_code country_code  \\\n",
       "count                    10353      56039         65270        65270   \n",
       "unique                   10350       1150             1            1   \n",
       "top        2022-09-14 00:15:29        1.0            en           us   \n",
       "freq                         2       3515         65270        65270   \n",
       "mean                       NaN        NaN           NaN          NaN   \n",
       "std                        NaN        NaN           NaN          NaN   \n",
       "min                        NaN        NaN           NaN          NaN   \n",
       "25%                        NaN        NaN           NaN          NaN   \n",
       "50%                        NaN        NaN           NaN          NaN   \n",
       "75%                        NaN        NaN           NaN          NaN   \n",
       "max                        NaN        NaN           NaN          NaN   \n",
       "\n",
       "                       app_name  \n",
       "count                     65270  \n",
       "unique                       41  \n",
       "top     com.lbrc.PeriodCalendar  \n",
       "freq                      22986  \n",
       "mean                        NaN  \n",
       "std                         NaN  \n",
       "min                         NaN  \n",
       "25%                         NaN  \n",
       "50%                         NaN  \n",
       "75%                         NaN  \n",
       "max                         NaN  "
      ]
     },
     "execution_count": 14,
     "metadata": {},
     "output_type": "execute_result"
    }
   ],
   "source": [
    "dataset.describe(include = \"all\")"
   ]
  },
  {
   "cell_type": "markdown",
   "metadata": {
    "id": "YSAHUwnxbP-v"
   },
   "source": [
    "*From the description above, we know that the ratings given from the customers will have the range of [1, 5] as shown above. Also, the average rating given to musical instruments sold is 4.48. We can also see our new column `reviews` is there to concate both `summary` and `reviewText`.*"
   ]
  },
  {
   "cell_type": "markdown",
   "metadata": {
    "id": "o8nymOqpmEk7"
   },
   "source": [
    "**Percentages of Ratings Given from The Customers**"
   ]
  },
  {
   "cell_type": "code",
   "execution_count": 17,
   "metadata": {
    "colab": {
     "base_uri": "https://localhost:8080/",
     "height": 482
    },
    "id": "BRO9JUQGmQKX",
    "outputId": "81f262e2-1bac-4485-d0fb-e48b3d623fe3"
   },
   "outputs": [
    {
     "data": {
      "image/png": "[encoded data removed]",
      "text/plain": [
       "<Figure size 800x800 with 1 Axes>"
      ]
     },
     "metadata": {},
     "output_type": "display_data"
    }
   ],
   "source": [
    "dataset.rating.value_counts().plot(kind = \"pie\", legend = False, autopct = \"%1.2f%%\", fontsize = 10, figsize=(8,8))\n",
    "plt.title(\"Percentages of Ratings Given from The Customers\", loc = \"center\")\n",
    "plt.show()"
   ]
  },
  {
   "cell_type": "markdown",
   "metadata": {
    "id": "05fL8PpvqSQ1"
   },
   "source": [
    "*From the chart above, the majority of musical instruments sold on Amazon have perfect ratings of 5.0, meaning the condition of the products are good. If we were to denote that ratings above 3 are `positive`, ratings equal to 3 are `neutral`, and ratings under 3 are `negative`, we know that the number of negative reviews given in the dataset are relatively small. This might affect our model later.*"
   ]
  },
  {
   "cell_type": "markdown",
   "metadata": {
    "id": "7Xn_UP8nz_gT"
   },
   "source": [
    "**Labelling Products Based On Ratings Given**"
   ]
  },
  {
   "cell_type": "markdown",
   "metadata": {
    "id": "1yvC7kTqa-dw"
   },
   "source": [
    "*Our dataset does not have any dependent variable, or in other words we haven't had any prediction target yet. We will categorize each sentiment according to ratings given for each row based on the explanation before: `Positive` Label for products with rating bigger than 3.0, `Neutral` Label for products with rating equal to 3.0, else `Negative` Label.*"
   ]
  },
  {
   "cell_type": "code",
   "execution_count": 20,
   "metadata": {
    "id": "0MkzDBoheXu2"
   },
   "outputs": [],
   "source": [
    "def Labelling(Rows):\n",
    "  if(Rows[\"rating\"] > 3.0):\n",
    "    Label = \"Positive\"\n",
    "  elif(Rows[\"rating\"] < 3.0):\n",
    "    Label = \"Negative\"\n",
    "  else:\n",
    "    Label = \"Neutral\"\n",
    "  return Label"
   ]
  },
  {
   "cell_type": "code",
   "execution_count": 21,
   "metadata": {
    "id": "25X3zpdUnDLk"
   },
   "outputs": [],
   "source": [
    "dataset[\"sentiment\"] = dataset.apply(Labelling, axis = 1)"
   ]
  },
  {
   "cell_type": "code",
   "execution_count": null,
   "metadata": {
    "colab": {
     "base_uri": "https://localhost:8080/",
     "height": 327
    },
    "id": "CzXrm3WtDY_u",
    "outputId": "4ce8c1e2-3a88-45b3-af24-4998da37f203"
   },
   "outputs": [],
   "source": [
    "dataset[\"sentiment\"].value_counts().plot(kind = \"bar\", color = \"blue\")\n",
    "plt.title(\"Amount of Each Sentiments Based On Rating Given\", loc = \"center\", fontsize = 15, color = \"red\", pad = 25)\n",
    "plt.xlabel(\"Sentiments\", color = \"green\", fontsize = 10, labelpad = 15)\n",
    "plt.xticks(rotation = 0)\n",
    "plt.ylabel(\"Amount of Sentiments\", color = \"green\", fontsize = 10, labelpad = 15)\n",
    "plt.show()"
   ]
  },
  {
   "cell_type": "markdown",
   "metadata": {
    "id": "BepAPzgdIEgn"
   },
   "source": [
    "*In this part we can actually change the labels into numeric values but for the sake of experiments we will do it later. Also, notice that from the graph we can know that most of our data contains positive sentiments, which is true from the exploration before.*"
   ]
  },
  {
   "cell_type": "markdown",
   "metadata": {
    "id": "9D_rE8CxqTMe"
   },
   "source": [
    "\n",
    "\n",
    "---\n",
    "\n"
   ]
  },
  {
   "cell_type": "markdown",
   "metadata": {
    "id": "LelPKb79I1XU"
   },
   "source": [
    "# Text Preprocessing"
   ]
  },
  {
   "cell_type": "markdown",
   "metadata": {
    "id": "3PbE0Z31Z32J"
   },
   "source": [
    "**Text Cleaning**"
   ]
  },
  {
   "cell_type": "code",
   "execution_count": 22,
   "metadata": {
    "id": "ZCR3SRdpJDBh"
   },
   "outputs": [],
   "source": [
    "def Text_Cleaning(Text):\n",
    "  # Lowercase the texts\n",
    "  Text = Text.lower()\n",
    "\n",
    "  # Cleaning punctuations in the text\n",
    "  punc = str.maketrans(string.punctuation, ' '*len(string.punctuation))\n",
    "  Text = Text.translate(punc)\n",
    "\n",
    "  # Removing numbers in the text\n",
    "  Text = re.sub(r'\\d+', '', Text)\n",
    "\n",
    "  # Remove possible links\n",
    "  Text = re.sub('https?://\\S+|www\\.\\S+', '', Text)\n",
    "\n",
    "  # Deleting newlines\n",
    "  Text = re.sub('\\n', '', Text)\n",
    "\n",
    "  return Text"
   ]
  },
  {
   "cell_type": "markdown",
   "metadata": {
    "id": "A2zOCerCZ9i8"
   },
   "source": [
    "**Text Processing**"
   ]
  },
  {
   "cell_type": "code",
   "execution_count": 23,
   "metadata": {
    "id": "CTtuLGYuaA9U"
   },
   "outputs": [],
   "source": [
    "# Stopwords\n",
    "Stopwords = set(nltk.corpus.stopwords.words(\"english\")) - set([\"not\"])\n",
    "\n",
    "def Text_Processing(Text):\n",
    "  Processed_Text = list()\n",
    "  Lemmatizer = WordNetLemmatizer()\n",
    "\n",
    "  # Tokens of Words\n",
    "  Tokens = nltk.word_tokenize(Text)\n",
    "\n",
    "  # Removing Stopwords and Lemmatizing Words\n",
    "  # To reduce noises in our dataset, also to keep it simple and still \n",
    "  # powerful, we will only omit the word `not` from the list of stopwords\n",
    "\n",
    "  for word in Tokens:\n",
    "    if word not in Stopwords:\n",
    "      Processed_Text.append(Lemmatizer.lemmatize(word))\n",
    "\n",
    "  return(\" \".join(Processed_Text))"
   ]
  },
  {
   "cell_type": "markdown",
   "metadata": {
    "id": "OOhoaPOVm3av"
   },
   "source": [
    "**Applying The Functions**"
   ]
  },
  {
   "cell_type": "code",
   "execution_count": 24,
   "metadata": {
    "id": "Oo_bJqO0aFfi"
   },
   "outputs": [],
   "source": [
    "dataset[\"review_description\"] = dataset[\"review_description\"].apply(lambda Text: Text_Cleaning(Text))\n",
    "dataset[\"review_description\"] = dataset[\"review_description\"].apply(lambda Text: Text_Processing(Text))"
   ]
  },
  {
   "cell_type": "markdown",
   "metadata": {
    "id": "ak5vPTL44q1e"
   },
   "source": [
    "\n",
    "\n",
    "---\n",
    "\n"
   ]
  },
  {
   "cell_type": "markdown",
   "metadata": {
    "id": "JKYYAbZSq3QH"
   },
   "source": [
    "# Exploratory Data Analysis"
   ]
  },
  {
   "cell_type": "markdown",
   "metadata": {
    "id": "nSXc6upbsS7K"
   },
   "source": [
    "**Overview of The Dataset**"
   ]
  },
  {
   "cell_type": "code",
   "execution_count": 25,
   "metadata": {
    "colab": {
     "base_uri": "https://localhost:8080/",
     "height": 511
    },
    "id": "I7nZOJQ8pLCT",
    "outputId": "35963c7c-65f6-4f6b-bf18-506ee50b6b2a"
   },
   "outputs": [
    {
     "data": {
      "text/html": [
       "<div>\n",
       "<style scoped>\n",
       "    .dataframe tbody tr th:only-of-type {\n",
       "        vertical-align: middle;\n",
       "    }\n",
       "\n",
       "    .dataframe tbody tr th {\n",
       "        vertical-align: top;\n",
       "    }\n",
       "\n",
       "    .dataframe thead th {\n",
       "        text-align: right;\n",
       "    }\n",
       "</style>\n",
       "<table border=\"1\" class=\"dataframe\">\n",
       "  <thead>\n",
       "    <tr style=\"text-align: right;\">\n",
       "      <th></th>\n",
       "      <th>source</th>\n",
       "      <th>review_id</th>\n",
       "      <th>user_name</th>\n",
       "      <th>review_title</th>\n",
       "      <th>review_description</th>\n",
       "      <th>rating</th>\n",
       "      <th>thumbs_up</th>\n",
       "      <th>review_date</th>\n",
       "      <th>developer_response</th>\n",
       "      <th>developer_response_date</th>\n",
       "      <th>appVersion</th>\n",
       "      <th>language_code</th>\n",
       "      <th>country_code</th>\n",
       "      <th>app_name</th>\n",
       "      <th>sentiment</th>\n",
       "    </tr>\n",
       "  </thead>\n",
       "  <tbody>\n",
       "    <tr>\n",
       "      <th>0</th>\n",
       "      <td>Google Play</td>\n",
       "      <td>f18a5ffe-872c-4f63-bf38-2c0eb5a52170</td>\n",
       "      <td>A Google user</td>\n",
       "      <td>NaN</td>\n",
       "      <td>apps useful best service</td>\n",
       "      <td>5</td>\n",
       "      <td>0</td>\n",
       "      <td>2024-10-10 10:36:15</td>\n",
       "      <td>NaN</td>\n",
       "      <td>NaN</td>\n",
       "      <td>2.1.8</td>\n",
       "      <td>en</td>\n",
       "      <td>us</td>\n",
       "      <td>com.twgbd.dims</td>\n",
       "      <td>Positive</td>\n",
       "    </tr>\n",
       "    <tr>\n",
       "      <th>1</th>\n",
       "      <td>Google Play</td>\n",
       "      <td>79ea060a-e2fb-44e5-a2b1-8525f21b5323</td>\n",
       "      <td>A Google user</td>\n",
       "      <td>NaN</td>\n",
       "      <td>interestin</td>\n",
       "      <td>5</td>\n",
       "      <td>0</td>\n",
       "      <td>2024-10-10 06:56:36</td>\n",
       "      <td>NaN</td>\n",
       "      <td>NaN</td>\n",
       "      <td>2.1.8</td>\n",
       "      <td>en</td>\n",
       "      <td>us</td>\n",
       "      <td>com.twgbd.dims</td>\n",
       "      <td>Positive</td>\n",
       "    </tr>\n",
       "    <tr>\n",
       "      <th>2</th>\n",
       "      <td>Google Play</td>\n",
       "      <td>53f9e22f-cbb4-48ee-9e1b-a339ad4760ca</td>\n",
       "      <td>A Google user</td>\n",
       "      <td>NaN</td>\n",
       "      <td>good apps</td>\n",
       "      <td>5</td>\n",
       "      <td>0</td>\n",
       "      <td>2024-10-10 06:52:01</td>\n",
       "      <td>NaN</td>\n",
       "      <td>NaN</td>\n",
       "      <td>2.1.8</td>\n",
       "      <td>en</td>\n",
       "      <td>us</td>\n",
       "      <td>com.twgbd.dims</td>\n",
       "      <td>Positive</td>\n",
       "    </tr>\n",
       "    <tr>\n",
       "      <th>3</th>\n",
       "      <td>Google Play</td>\n",
       "      <td>4170d3ff-6f9f-45f6-910f-04a131b4a081</td>\n",
       "      <td>A Google user</td>\n",
       "      <td>NaN</td>\n",
       "      <td>nice app</td>\n",
       "      <td>5</td>\n",
       "      <td>0</td>\n",
       "      <td>2024-10-10 06:46:15</td>\n",
       "      <td>NaN</td>\n",
       "      <td>NaN</td>\n",
       "      <td>2.1.8</td>\n",
       "      <td>en</td>\n",
       "      <td>us</td>\n",
       "      <td>com.twgbd.dims</td>\n",
       "      <td>Positive</td>\n",
       "    </tr>\n",
       "    <tr>\n",
       "      <th>4</th>\n",
       "      <td>Google Play</td>\n",
       "      <td>16e82105-ecb2-45ca-be80-9283490047ed</td>\n",
       "      <td>A Google user</td>\n",
       "      <td>NaN</td>\n",
       "      <td>good apps</td>\n",
       "      <td>5</td>\n",
       "      <td>0</td>\n",
       "      <td>2024-10-10 05:35:54</td>\n",
       "      <td>NaN</td>\n",
       "      <td>NaN</td>\n",
       "      <td>2.1.8</td>\n",
       "      <td>en</td>\n",
       "      <td>us</td>\n",
       "      <td>com.twgbd.dims</td>\n",
       "      <td>Positive</td>\n",
       "    </tr>\n",
       "    <tr>\n",
       "      <th>5</th>\n",
       "      <td>Google Play</td>\n",
       "      <td>7343b2f4-d63a-40f8-831a-6d981790e460</td>\n",
       "      <td>A Google user</td>\n",
       "      <td>NaN</td>\n",
       "      <td>full version system l think next addition may ...</td>\n",
       "      <td>5</td>\n",
       "      <td>0</td>\n",
       "      <td>2024-10-09 16:02:34</td>\n",
       "      <td>NaN</td>\n",
       "      <td>NaN</td>\n",
       "      <td>2.1.8</td>\n",
       "      <td>en</td>\n",
       "      <td>us</td>\n",
       "      <td>com.twgbd.dims</td>\n",
       "      <td>Positive</td>\n",
       "    </tr>\n",
       "    <tr>\n",
       "      <th>6</th>\n",
       "      <td>Google Play</td>\n",
       "      <td>a4688286-d0ef-40e5-bf2d-3dbc9e019519</td>\n",
       "      <td>A Google user</td>\n",
       "      <td>NaN</td>\n",
       "      <td>effective everyone ❤️</td>\n",
       "      <td>5</td>\n",
       "      <td>0</td>\n",
       "      <td>2024-10-09 16:00:39</td>\n",
       "      <td>NaN</td>\n",
       "      <td>NaN</td>\n",
       "      <td>2.1.8</td>\n",
       "      <td>en</td>\n",
       "      <td>us</td>\n",
       "      <td>com.twgbd.dims</td>\n",
       "      <td>Positive</td>\n",
       "    </tr>\n",
       "    <tr>\n",
       "      <th>7</th>\n",
       "      <td>Google Play</td>\n",
       "      <td>2fd97fde-92ff-45a4-943f-2cb5a02ca5a5</td>\n",
       "      <td>A Google user</td>\n",
       "      <td>NaN</td>\n",
       "      <td>helpful</td>\n",
       "      <td>5</td>\n",
       "      <td>0</td>\n",
       "      <td>2024-10-09 13:25:26</td>\n",
       "      <td>NaN</td>\n",
       "      <td>NaN</td>\n",
       "      <td>2.1.8</td>\n",
       "      <td>en</td>\n",
       "      <td>us</td>\n",
       "      <td>com.twgbd.dims</td>\n",
       "      <td>Positive</td>\n",
       "    </tr>\n",
       "    <tr>\n",
       "      <th>8</th>\n",
       "      <td>Google Play</td>\n",
       "      <td>0f37c527-463d-4a55-b096-2349a2f04572</td>\n",
       "      <td>A Google user</td>\n",
       "      <td>NaN</td>\n",
       "      <td>’ interesting app</td>\n",
       "      <td>5</td>\n",
       "      <td>0</td>\n",
       "      <td>2024-10-09 07:57:06</td>\n",
       "      <td>NaN</td>\n",
       "      <td>NaN</td>\n",
       "      <td>2.1.4</td>\n",
       "      <td>en</td>\n",
       "      <td>us</td>\n",
       "      <td>com.twgbd.dims</td>\n",
       "      <td>Positive</td>\n",
       "    </tr>\n",
       "    <tr>\n",
       "      <th>9</th>\n",
       "      <td>Google Play</td>\n",
       "      <td>43735aea-6ed6-46d6-b40d-a05a6aa85a4f</td>\n",
       "      <td>A Google user</td>\n",
       "      <td>NaN</td>\n",
       "      <td>excellent apps medical professional</td>\n",
       "      <td>5</td>\n",
       "      <td>0</td>\n",
       "      <td>2024-10-09 07:29:56</td>\n",
       "      <td>NaN</td>\n",
       "      <td>NaN</td>\n",
       "      <td>2.1.8</td>\n",
       "      <td>en</td>\n",
       "      <td>us</td>\n",
       "      <td>com.twgbd.dims</td>\n",
       "      <td>Positive</td>\n",
       "    </tr>\n",
       "  </tbody>\n",
       "</table>\n",
       "</div>"
      ],
      "text/plain": [
       "        source                             review_id      user_name  \\\n",
       "0  Google Play  f18a5ffe-872c-4f63-bf38-2c0eb5a52170  A Google user   \n",
       "1  Google Play  79ea060a-e2fb-44e5-a2b1-8525f21b5323  A Google user   \n",
       "2  Google Play  53f9e22f-cbb4-48ee-9e1b-a339ad4760ca  A Google user   \n",
       "3  Google Play  4170d3ff-6f9f-45f6-910f-04a131b4a081  A Google user   \n",
       "4  Google Play  16e82105-ecb2-45ca-be80-9283490047ed  A Google user   \n",
       "5  Google Play  7343b2f4-d63a-40f8-831a-6d981790e460  A Google user   \n",
       "6  Google Play  a4688286-d0ef-40e5-bf2d-3dbc9e019519  A Google user   \n",
       "7  Google Play  2fd97fde-92ff-45a4-943f-2cb5a02ca5a5  A Google user   \n",
       "8  Google Play  0f37c527-463d-4a55-b096-2349a2f04572  A Google user   \n",
       "9  Google Play  43735aea-6ed6-46d6-b40d-a05a6aa85a4f  A Google user   \n",
       "\n",
       "   review_title                                 review_description  rating  \\\n",
       "0           NaN                           apps useful best service       5   \n",
       "1           NaN                                         interestin       5   \n",
       "2           NaN                                          good apps       5   \n",
       "3           NaN                                           nice app       5   \n",
       "4           NaN                                          good apps       5   \n",
       "5           NaN  full version system l think next addition may ...       5   \n",
       "6           NaN                              effective everyone ❤️       5   \n",
       "7           NaN                                            helpful       5   \n",
       "8           NaN                                  ’ interesting app       5   \n",
       "9           NaN                excellent apps medical professional       5   \n",
       "\n",
       "   thumbs_up          review_date developer_response developer_response_date  \\\n",
       "0          0  2024-10-10 10:36:15                NaN                     NaN   \n",
       "1          0  2024-10-10 06:56:36                NaN                     NaN   \n",
       "2          0  2024-10-10 06:52:01                NaN                     NaN   \n",
       "3          0  2024-10-10 06:46:15                NaN                     NaN   \n",
       "4          0  2024-10-10 05:35:54                NaN                     NaN   \n",
       "5          0  2024-10-09 16:02:34                NaN                     NaN   \n",
       "6          0  2024-10-09 16:00:39                NaN                     NaN   \n",
       "7          0  2024-10-09 13:25:26                NaN                     NaN   \n",
       "8          0  2024-10-09 07:57:06                NaN                     NaN   \n",
       "9          0  2024-10-09 07:29:56                NaN                     NaN   \n",
       "\n",
       "  appVersion language_code country_code        app_name sentiment  \n",
       "0      2.1.8            en           us  com.twgbd.dims  Positive  \n",
       "1      2.1.8            en           us  com.twgbd.dims  Positive  \n",
       "2      2.1.8            en           us  com.twgbd.dims  Positive  \n",
       "3      2.1.8            en           us  com.twgbd.dims  Positive  \n",
       "4      2.1.8            en           us  com.twgbd.dims  Positive  \n",
       "5      2.1.8            en           us  com.twgbd.dims  Positive  \n",
       "6      2.1.8            en           us  com.twgbd.dims  Positive  \n",
       "7      2.1.8            en           us  com.twgbd.dims  Positive  \n",
       "8      2.1.4            en           us  com.twgbd.dims  Positive  \n",
       "9      2.1.8            en           us  com.twgbd.dims  Positive  "
      ]
     },
     "execution_count": 25,
     "metadata": {},
     "output_type": "execute_result"
    }
   ],
   "source": [
    "dataset.head(n = 10)"
   ]
  },
  {
   "cell_type": "markdown",
   "metadata": {
    "id": "Q02aQd2ckA0w"
   },
   "source": [
    "*With the overview above, we know that for sentiment analysis that we will do, `reviews` is important to our model and we should use this aspect as our feature. By using this feature, we will need to predict what our sentiment will be classified into.*"
   ]
  },
  {
   "cell_type": "markdown",
   "metadata": {
    "id": "dFQOTMt7ppRB"
   },
   "source": [
    "**About Other Features**"
   ]
  },
  {
   "cell_type": "code",
   "execution_count": 26,
   "metadata": {
    "colab": {
     "base_uri": "https://localhost:8080/",
     "height": 373
    },
    "id": "bETmnZANpt9x",
    "outputId": "75f7adf1-1cd1-4c13-ec64-2d8b125adc0f"
   },
   "outputs": [
    {
     "data": {
      "text/html": [
       "<div>\n",
       "<style scoped>\n",
       "    .dataframe tbody tr th:only-of-type {\n",
       "        vertical-align: middle;\n",
       "    }\n",
       "\n",
       "    .dataframe tbody tr th {\n",
       "        vertical-align: top;\n",
       "    }\n",
       "\n",
       "    .dataframe thead th {\n",
       "        text-align: right;\n",
       "    }\n",
       "</style>\n",
       "<table border=\"1\" class=\"dataframe\">\n",
       "  <thead>\n",
       "    <tr style=\"text-align: right;\">\n",
       "      <th></th>\n",
       "      <th>source</th>\n",
       "      <th>review_id</th>\n",
       "      <th>user_name</th>\n",
       "      <th>review_title</th>\n",
       "      <th>review_description</th>\n",
       "      <th>rating</th>\n",
       "      <th>thumbs_up</th>\n",
       "      <th>review_date</th>\n",
       "      <th>developer_response</th>\n",
       "      <th>developer_response_date</th>\n",
       "      <th>appVersion</th>\n",
       "      <th>language_code</th>\n",
       "      <th>country_code</th>\n",
       "      <th>app_name</th>\n",
       "      <th>sentiment</th>\n",
       "    </tr>\n",
       "  </thead>\n",
       "  <tbody>\n",
       "    <tr>\n",
       "      <th>count</th>\n",
       "      <td>65270</td>\n",
       "      <td>65270</td>\n",
       "      <td>65270</td>\n",
       "      <td>0.0</td>\n",
       "      <td>65270</td>\n",
       "      <td>65270.000000</td>\n",
       "      <td>65270.000000</td>\n",
       "      <td>65270</td>\n",
       "      <td>10353</td>\n",
       "      <td>10353</td>\n",
       "      <td>56039</td>\n",
       "      <td>65270</td>\n",
       "      <td>65270</td>\n",
       "      <td>65270</td>\n",
       "      <td>65270</td>\n",
       "    </tr>\n",
       "    <tr>\n",
       "      <th>unique</th>\n",
       "      <td>1</td>\n",
       "      <td>65270</td>\n",
       "      <td>6924</td>\n",
       "      <td>NaN</td>\n",
       "      <td>47989</td>\n",
       "      <td>NaN</td>\n",
       "      <td>NaN</td>\n",
       "      <td>65259</td>\n",
       "      <td>5988</td>\n",
       "      <td>10350</td>\n",
       "      <td>1150</td>\n",
       "      <td>1</td>\n",
       "      <td>1</td>\n",
       "      <td>41</td>\n",
       "      <td>3</td>\n",
       "    </tr>\n",
       "    <tr>\n",
       "      <th>top</th>\n",
       "      <td>Google Play</td>\n",
       "      <td>f18a5ffe-872c-4f63-bf38-2c0eb5a52170</td>\n",
       "      <td>A Google user</td>\n",
       "      <td>NaN</td>\n",
       "      <td>good app</td>\n",
       "      <td>NaN</td>\n",
       "      <td>NaN</td>\n",
       "      <td>2024-09-26 06:35:40</td>\n",
       "      <td>Thank you very much. Keep using our app :)</td>\n",
       "      <td>2022-09-14 00:15:29</td>\n",
       "      <td>1.0</td>\n",
       "      <td>en</td>\n",
       "      <td>us</td>\n",
       "      <td>com.lbrc.PeriodCalendar</td>\n",
       "      <td>Positive</td>\n",
       "    </tr>\n",
       "    <tr>\n",
       "      <th>freq</th>\n",
       "      <td>65270</td>\n",
       "      <td>1</td>\n",
       "      <td>58173</td>\n",
       "      <td>NaN</td>\n",
       "      <td>1824</td>\n",
       "      <td>NaN</td>\n",
       "      <td>NaN</td>\n",
       "      <td>2</td>\n",
       "      <td>504</td>\n",
       "      <td>2</td>\n",
       "      <td>3515</td>\n",
       "      <td>65270</td>\n",
       "      <td>65270</td>\n",
       "      <td>22986</td>\n",
       "      <td>56454</td>\n",
       "    </tr>\n",
       "    <tr>\n",
       "      <th>mean</th>\n",
       "      <td>NaN</td>\n",
       "      <td>NaN</td>\n",
       "      <td>NaN</td>\n",
       "      <td>NaN</td>\n",
       "      <td>NaN</td>\n",
       "      <td>4.438318</td>\n",
       "      <td>2.924514</td>\n",
       "      <td>NaN</td>\n",
       "      <td>NaN</td>\n",
       "      <td>NaN</td>\n",
       "      <td>NaN</td>\n",
       "      <td>NaN</td>\n",
       "      <td>NaN</td>\n",
       "      <td>NaN</td>\n",
       "      <td>NaN</td>\n",
       "    </tr>\n",
       "    <tr>\n",
       "      <th>std</th>\n",
       "      <td>NaN</td>\n",
       "      <td>NaN</td>\n",
       "      <td>NaN</td>\n",
       "      <td>NaN</td>\n",
       "      <td>NaN</td>\n",
       "      <td>1.188981</td>\n",
       "      <td>33.937940</td>\n",
       "      <td>NaN</td>\n",
       "      <td>NaN</td>\n",
       "      <td>NaN</td>\n",
       "      <td>NaN</td>\n",
       "      <td>NaN</td>\n",
       "      <td>NaN</td>\n",
       "      <td>NaN</td>\n",
       "      <td>NaN</td>\n",
       "    </tr>\n",
       "    <tr>\n",
       "      <th>min</th>\n",
       "      <td>NaN</td>\n",
       "      <td>NaN</td>\n",
       "      <td>NaN</td>\n",
       "      <td>NaN</td>\n",
       "      <td>NaN</td>\n",
       "      <td>0.000000</td>\n",
       "      <td>0.000000</td>\n",
       "      <td>NaN</td>\n",
       "      <td>NaN</td>\n",
       "      <td>NaN</td>\n",
       "      <td>NaN</td>\n",
       "      <td>NaN</td>\n",
       "      <td>NaN</td>\n",
       "      <td>NaN</td>\n",
       "      <td>NaN</td>\n",
       "    </tr>\n",
       "    <tr>\n",
       "      <th>25%</th>\n",
       "      <td>NaN</td>\n",
       "      <td>NaN</td>\n",
       "      <td>NaN</td>\n",
       "      <td>NaN</td>\n",
       "      <td>NaN</td>\n",
       "      <td>5.000000</td>\n",
       "      <td>0.000000</td>\n",
       "      <td>NaN</td>\n",
       "      <td>NaN</td>\n",
       "      <td>NaN</td>\n",
       "      <td>NaN</td>\n",
       "      <td>NaN</td>\n",
       "      <td>NaN</td>\n",
       "      <td>NaN</td>\n",
       "      <td>NaN</td>\n",
       "    </tr>\n",
       "    <tr>\n",
       "      <th>50%</th>\n",
       "      <td>NaN</td>\n",
       "      <td>NaN</td>\n",
       "      <td>NaN</td>\n",
       "      <td>NaN</td>\n",
       "      <td>NaN</td>\n",
       "      <td>5.000000</td>\n",
       "      <td>0.000000</td>\n",
       "      <td>NaN</td>\n",
       "      <td>NaN</td>\n",
       "      <td>NaN</td>\n",
       "      <td>NaN</td>\n",
       "      <td>NaN</td>\n",
       "      <td>NaN</td>\n",
       "      <td>NaN</td>\n",
       "      <td>NaN</td>\n",
       "    </tr>\n",
       "    <tr>\n",
       "      <th>75%</th>\n",
       "      <td>NaN</td>\n",
       "      <td>NaN</td>\n",
       "      <td>NaN</td>\n",
       "      <td>NaN</td>\n",
       "      <td>NaN</td>\n",
       "      <td>5.000000</td>\n",
       "      <td>0.000000</td>\n",
       "      <td>NaN</td>\n",
       "      <td>NaN</td>\n",
       "      <td>NaN</td>\n",
       "      <td>NaN</td>\n",
       "      <td>NaN</td>\n",
       "      <td>NaN</td>\n",
       "      <td>NaN</td>\n",
       "      <td>NaN</td>\n",
       "    </tr>\n",
       "    <tr>\n",
       "      <th>max</th>\n",
       "      <td>NaN</td>\n",
       "      <td>NaN</td>\n",
       "      <td>NaN</td>\n",
       "      <td>NaN</td>\n",
       "      <td>NaN</td>\n",
       "      <td>5.000000</td>\n",
       "      <td>4731.000000</td>\n",
       "      <td>NaN</td>\n",
       "      <td>NaN</td>\n",
       "      <td>NaN</td>\n",
       "      <td>NaN</td>\n",
       "      <td>NaN</td>\n",
       "      <td>NaN</td>\n",
       "      <td>NaN</td>\n",
       "      <td>NaN</td>\n",
       "    </tr>\n",
       "  </tbody>\n",
       "</table>\n",
       "</div>"
      ],
      "text/plain": [
       "             source                             review_id      user_name  \\\n",
       "count         65270                                 65270          65270   \n",
       "unique            1                                 65270           6924   \n",
       "top     Google Play  f18a5ffe-872c-4f63-bf38-2c0eb5a52170  A Google user   \n",
       "freq          65270                                     1          58173   \n",
       "mean            NaN                                   NaN            NaN   \n",
       "std             NaN                                   NaN            NaN   \n",
       "min             NaN                                   NaN            NaN   \n",
       "25%             NaN                                   NaN            NaN   \n",
       "50%             NaN                                   NaN            NaN   \n",
       "75%             NaN                                   NaN            NaN   \n",
       "max             NaN                                   NaN            NaN   \n",
       "\n",
       "        review_title review_description        rating     thumbs_up  \\\n",
       "count            0.0              65270  65270.000000  65270.000000   \n",
       "unique           NaN              47989           NaN           NaN   \n",
       "top              NaN           good app           NaN           NaN   \n",
       "freq             NaN               1824           NaN           NaN   \n",
       "mean             NaN                NaN      4.438318      2.924514   \n",
       "std              NaN                NaN      1.188981     33.937940   \n",
       "min              NaN                NaN      0.000000      0.000000   \n",
       "25%              NaN                NaN      5.000000      0.000000   \n",
       "50%              NaN                NaN      5.000000      0.000000   \n",
       "75%              NaN                NaN      5.000000      0.000000   \n",
       "max              NaN                NaN      5.000000   4731.000000   \n",
       "\n",
       "                review_date                          developer_response  \\\n",
       "count                 65270                                       10353   \n",
       "unique                65259                                        5988   \n",
       "top     2024-09-26 06:35:40  Thank you very much. Keep using our app :)   \n",
       "freq                      2                                         504   \n",
       "mean                    NaN                                         NaN   \n",
       "std                     NaN                                         NaN   \n",
       "min                     NaN                                         NaN   \n",
       "25%                     NaN                                         NaN   \n",
       "50%                     NaN                                         NaN   \n",
       "75%                     NaN                                         NaN   \n",
       "max                     NaN                                         NaN   \n",
       "\n",
       "       developer_response_date appVersion language_code country_code  \\\n",
       "count                    10353      56039         65270        65270   \n",
       "unique                   10350       1150             1            1   \n",
       "top        2022-09-14 00:15:29        1.0            en           us   \n",
       "freq                         2       3515         65270        65270   \n",
       "mean                       NaN        NaN           NaN          NaN   \n",
       "std                        NaN        NaN           NaN          NaN   \n",
       "min                        NaN        NaN           NaN          NaN   \n",
       "25%                        NaN        NaN           NaN          NaN   \n",
       "50%                        NaN        NaN           NaN          NaN   \n",
       "75%                        NaN        NaN           NaN          NaN   \n",
       "max                        NaN        NaN           NaN          NaN   \n",
       "\n",
       "                       app_name sentiment  \n",
       "count                     65270     65270  \n",
       "unique                       41         3  \n",
       "top     com.lbrc.PeriodCalendar  Positive  \n",
       "freq                      22986     56454  \n",
       "mean                        NaN       NaN  \n",
       "std                         NaN       NaN  \n",
       "min                         NaN       NaN  \n",
       "25%                         NaN       NaN  \n",
       "50%                         NaN       NaN  \n",
       "75%                         NaN       NaN  \n",
       "max                         NaN       NaN  "
      ]
     },
     "execution_count": 26,
     "metadata": {},
     "output_type": "execute_result"
    }
   ],
   "source": [
    "dataset.describe(include = \"all\")"
   ]
  },
  {
   "cell_type": "markdown",
   "metadata": {
    "id": "qMTeEjusp5LS"
   },
   "source": [
    "*Now, we will go back to statistic description of our dataset. Intuitively, the other features from our dataset does not really have any impact in determining our sentiment later. We might use the `helpful` part in our model, but as we can see from the description above, the top values of it is [0,0], which means that most users do not really take their votes in it. Because of it, we can also decide that we don't really need it in our model.*"
   ]
  },
  {
   "cell_type": "markdown",
   "metadata": {
    "id": "ONhs1ui4vYJb"
   },
   "source": [
    "**Polarity, Review Length, and Word Counts**"
   ]
  },
  {
   "cell_type": "markdown",
   "metadata": {
    "id": "kfXetkDivjgx"
   },
   "source": [
    "*To justify our analysis before, we will dive further into the dataset a bit more from the polarity of the texts, also from the words used in the reviews. We will generate some new columns in our dataset and visualize it.*"
   ]
  },
  {
   "cell_type": "markdown",
   "metadata": {
    "id": "lJL5rJjGvyKb"
   },
   "source": [
    "Polarity"
   ]
  },
  {
   "cell_type": "code",
   "execution_count": 28,
   "metadata": {
    "id": "RaKnF0Z-vvGZ"
   },
   "outputs": [],
   "source": [
    "dataset[\"polarity\"] = dataset[\"review_description\"].map(lambda Text: TextBlob(Text).sentiment.polarity)"
   ]
  },
  {
   "cell_type": "code",
   "execution_count": 29,
   "metadata": {
    "colab": {
     "base_uri": "https://localhost:8080/",
     "height": 375
    },
    "id": "oG7Y8CHaxMEY",
    "outputId": "1dfeb0b1-ff60-4b12-d84c-d9bbab0bf849"
   },
   "outputs": [
    {
     "data": {
      "image/png": "[encoded data removed]",
      "text/plain": [
       "<Figure size 1000x500 with 1 Axes>"
      ]
     },
     "metadata": {},
     "output_type": "display_data"
    }
   ],
   "source": [
    "dataset[\"polarity\"].plot(kind = \"hist\", bins = 40, edgecolor = \"blue\", linewidth = 1, color = \"orange\", figsize = (10,5))\n",
    "plt.title(\"Polarity Score in Reviews\", color = \"blue\", pad = 20)\n",
    "plt.xlabel(\"Polarity\", labelpad = 15, color = \"red\")\n",
    "plt.ylabel(\"Amount of Reviews\", labelpad = 20, color = \"green\")\n",
    "\n",
    "plt.show()"
   ]
  },
  {
   "cell_type": "markdown",
   "metadata": {
    "id": "P-_iMUe20WqM"
   },
   "source": [
    "*Reviews with negative polarity will be in range of [-1, 0), neutral ones will be 0.0, and positive reviews will have the range of (0, 1].*\n",
    "\n",
    "*From the histogram above, we know that most of the reviews are distributed in positive sentiments, meaning that what we extracted from our analysis before is true. Statistically, this histogram shows that our data is normally distributed, but not with standard distribution. In conclusion, we know for sure that our analysis about the amount of sentiments from the reviews is correct and corresponds to the histogram above.*"
   ]
  },
  {
   "cell_type": "markdown",
   "metadata": {
    "id": "mpgsWK4n1lw2"
   },
   "source": [
    "Review Length"
   ]
  },
  {
   "cell_type": "code",
   "execution_count": 30,
   "metadata": {
    "id": "ujgPvpuo1te5"
   },
   "outputs": [],
   "source": [
    "dataset[\"length\"] = dataset[\"review_description\"].astype(str).apply(len)"
   ]
  },
  {
   "cell_type": "code",
   "execution_count": 31,
   "metadata": {
    "colab": {
     "base_uri": "https://localhost:8080/",
     "height": 375
    },
    "id": "zxuKarc013I9",
    "outputId": "b961e004-99b2-45c0-e1bb-c43438e10877"
   },
   "outputs": [
    {
     "data": {
      "image/png": "[encoded data removed]",
      "text/plain": [
       "<Figure size 1000x500 with 1 Axes>"
      ]
     },
     "metadata": {},
     "output_type": "display_data"
    }
   ],
   "source": [
    "dataset[\"length\"].plot(kind = \"hist\", bins = 40, edgecolor = \"blue\", linewidth = 1, color = \"orange\", figsize = (10,5))\n",
    "plt.title(\"Length of Reviews\", color = \"blue\", pad = 20)\n",
    "plt.xlabel(\"Length\", labelpad = 15, color = \"red\")\n",
    "plt.ylabel(\"Amount of Reviews\", labelpad = 20, color = \"green\")\n",
    "\n",
    "plt.show()"
   ]
  },
  {
   "cell_type": "markdown",
   "metadata": {
    "id": "sGrlF5kP2YSw"
   },
   "source": [
    "*Based on this, we know that our review has text length between approximately 0-1000 characters. The distribution itself has positive skewness, or in other words it is skewed right, and this means that our reviews rarely has larger length than 1000 characters. Of course, the review that we use here is affected by the text preprocessing phase, so the length might not be the actual value of the review itself as some words might have been omitted already. This will also have the same effect when we count the tatal of words in our reviews.*"
   ]
  },
  {
   "cell_type": "markdown",
   "metadata": {
    "id": "rui0r-S_4Z5C"
   },
   "source": [
    "Word Counts"
   ]
  },
  {
   "cell_type": "code",
   "execution_count": 32,
   "metadata": {
    "id": "bONPL7pv4cv4"
   },
   "outputs": [],
   "source": [
    "dataset[\"word_counts\"] = dataset[\"review_description\"].apply(lambda x: len(str(x).split()))"
   ]
  },
  {
   "cell_type": "code",
   "execution_count": 33,
   "metadata": {
    "colab": {
     "base_uri": "https://localhost:8080/",
     "height": 375
    },
    "id": "BJXJGcqW42kr",
    "outputId": "0d89b19b-f274-4dc3-f4dd-bbe40841e82d"
   },
   "outputs": [
    {
     "data": {
      "image/png": "[encoded data removed]",
      "text/plain": [
       "<Figure size 1000x500 with 1 Axes>"
      ]
     },
     "metadata": {},
     "output_type": "display_data"
    }
   ],
   "source": [
    "dataset[\"word_counts\"].plot(kind = \"hist\", bins = 40, edgecolor = \"blue\", linewidth = 1, color = \"orange\", figsize = (10,5))\n",
    "plt.title(\"Word Counts in Reviews\", color = \"blue\", pad = 20)\n",
    "plt.xlabel(\"Word Counts\", labelpad = 15, color = \"red\")\n",
    "plt.ylabel(\"Amount of Reviews\", labelpad = 20, color = \"green\")\n",
    "\n",
    "plt.show()"
   ]
  },
  {
   "cell_type": "markdown",
   "metadata": {
    "id": "lkDp7CMl5Yn-"
   },
   "source": [
    "*From the figure above, we infer that most of the reviews consist of 0-200 words. Just like before, the distribution is skewed right and the calculation is affected by our text preprocessing phase before.*"
   ]
  },
  {
   "cell_type": "markdown",
   "metadata": {
    "id": "bwx3kkU0qNY8"
   },
   "source": [
    "\n",
    "\n",
    "---\n",
    "\n"
   ]
  },
  {
   "cell_type": "markdown",
   "metadata": {
    "id": "IIDduMBZyIJo"
   },
   "source": [
    "# N-Gram Analysis"
   ]
  },
  {
   "cell_type": "markdown",
   "metadata": {
    "id": "vUYkC5Aw7Slr"
   },
   "source": [
    "**N-Gram Function**"
   ]
  },
  {
   "cell_type": "code",
   "execution_count": 34,
   "metadata": {
    "id": "7D_yEr1S7R9-"
   },
   "outputs": [],
   "source": [
    "def Gram_Analysis(Corpus, Gram, N):\n",
    "  # Vectorizer\n",
    "  Vectorizer = CountVectorizer(stop_words = Stopwords, ngram_range=(Gram,Gram))\n",
    "\n",
    "  # N-Grams Matrix\n",
    "  ngrams = Vectorizer.fit_transform(Corpus)\n",
    "\n",
    "  # N-Grams Frequency\n",
    "  Count = ngrams.sum(axis=0)\n",
    "\n",
    "  # List of Words\n",
    "  words = [(word, Count[0, idx]) for word, idx in Vectorizer.vocabulary_.items()]\n",
    "\n",
    "  # Sort Descending With Key = Count\n",
    "  words = sorted(words, key = lambda x:x[1], reverse = True)\n",
    "\n",
    "  return words[:N]"
   ]
  },
  {
   "cell_type": "markdown",
   "metadata": {
    "id": "7Ff2343LhzFD"
   },
   "source": [
    "**Filter The DataFrame Based On Sentiments**"
   ]
  },
  {
   "cell_type": "code",
   "execution_count": 35,
   "metadata": {
    "id": "iL1OXVfniltT"
   },
   "outputs": [],
   "source": [
    "# Use dropna() so the base DataFrame is not affected\n",
    "Positive = dataset[dataset[\"sentiment\"] == \"Positive\"].dropna()\n",
    "Neutral = dataset[dataset[\"sentiment\"] == \"Neutral\"].dropna()\n",
    "Negative = dataset[dataset[\"sentiment\"] == \"Negative\"].dropna()"
   ]
  },
  {
   "cell_type": "code",
   "execution_count": null,
   "metadata": {},
   "outputs": [
    {
     "data": {
      "image/png": "[encoded data removed]",
      "text/plain": [
       "<Figure size 1000x500 with 1 Axes>"
      ]
     },
     "metadata": {},
     "output_type": "display_data"
    }
   ],
   "source": [
    "# import pandas as pd\n",
    "# import matplotlib.pyplot as plt\n",
    "\n",
    "# # Assuming Gram_Analysis is defined elsewhere\n",
    "# # words = Gram_Analysis(Positive[\"review_description\"], 1, 20)\n",
    "# # For demonstration, let's assume words is a list of tuples\n",
    "# words = [(\"word1\", 10), (\"word2\", 15), (\"word3\", 5)]  # Example data\n",
    "\n",
    "# Unigram = pd.DataFrame(words, columns=[\"Words\", \"Counts\"])\n",
    "\n",
    "# # Visualization\n",
    "# Unigram.groupby(\"Words\").sum()[\"Counts\"].sort_values().plot(kind=\"barh\", color=\"green\", figsize=(10, 5))\n",
    "# plt.title(\"Unigram of Reviews with Positive Sentiments\", loc=\"center\", fontsize=15, color=\"blue\", pad=25)\n",
    "# plt.xlabel(\"Total Counts\", color=\"magenta\", fontsize=10, labelpad=15)\n",
    "# plt.xticks(rotation=0)\n",
    "# plt.ylabel(\"Top Words\", color=\"cyan\", fontsize=10, labelpad=15)\n",
    "# plt.show()"
   ]
  },
  {
   "cell_type": "markdown",
   "metadata": {
    "id": "Pb1d0XLWj6-S"
   },
   "source": [
    "**Unigram of Reviews Based on Sentiments**"
   ]
  },
  {
   "cell_type": "code",
   "execution_count": 39,
   "metadata": {
    "colab": {
     "base_uri": "https://localhost:8080/",
     "height": 382
    },
    "id": "U1Bq2hKy_kxd",
    "outputId": "a549c8cd-00e6-49e0-d9d1-421dbdc9d6d1"
   },
   "outputs": [
    {
     "data": {
      "image/png": "[encoded data removed]",
      "text/plain": [
       "<Figure size 1000x500 with 1 Axes>"
      ]
     },
     "metadata": {},
     "output_type": "display_data"
    }
   ],
   "source": [
    "import pandas as pd\n",
    "import matplotlib.pyplot as plt\n",
    "\n",
    "# Assuming Gram_Analysis is defined elsewhere\n",
    "# words = Gram_Analysis(Positive[\"review_description\"], 1, 20)\n",
    "# For demonstration, let's assume words is a list of tuples\n",
    "words = [(\"word1\", 10), (\"word2\", 15), (\"word3\", 5)]  # Example data\n",
    "\n",
    "Unigram = pd.DataFrame(words, columns=[\"Words\", \"Counts\"])\n",
    "\n",
    "# Visualization\n",
    "Unigram.groupby(\"Words\").sum()[\"Counts\"].sort_values().plot(kind=\"barh\", color=\"green\", figsize=(10, 5))\n",
    "plt.title(\"Unigram of Reviews with Positive Sentiments\", loc=\"center\", fontsize=15, color=\"blue\", pad=25)\n",
    "plt.xlabel(\"Total Counts\", color=\"magenta\", fontsize=10, labelpad=15)\n",
    "plt.xticks(rotation=0)\n",
    "plt.ylabel(\"Top Words\", color=\"cyan\", fontsize=10, labelpad=15)\n",
    "plt.show()"
   ]
  },
  {
   "cell_type": "code",
   "execution_count": 41,
   "metadata": {
    "colab": {
     "base_uri": "https://localhost:8080/",
     "height": 382
    },
    "id": "XpJ_sLxgmxU-",
    "outputId": "6a49b311-a473-4081-82c4-b66c8deb9708"
   },
   "outputs": [
    {
     "data": {
      "image/png": "[encoded data removed]",
      "text/plain": [
       "<Figure size 1000x500 with 1 Axes>"
      ]
     },
     "metadata": {},
     "output_type": "display_data"
    }
   ],
   "source": [
    "import pandas as pd\n",
    "import matplotlib.pyplot as plt\n",
    "\n",
    "# Assuming Gram_Analysis is defined elsewhere\n",
    "# words = Gram_Analysis(Neutral[\"review_description\"], 1, 20)\n",
    "# For demonstration, let's assume words is a list of tuples\n",
    "words = [(\"word1\", 10), (\"word2\", 15), (\"word3\", 5)]  # Example data\n",
    "\n",
    "Unigram = pd.DataFrame(words, columns=[\"Words\", \"Counts\"])\n",
    "\n",
    "# Visualization\n",
    "Unigram.groupby(\"Words\").sum()[\"Counts\"].sort_values().plot(kind=\"barh\", color=\"orange\", figsize=(10, 5))\n",
    "plt.title(\"Unigram of Reviews with Neutral Sentiments\", loc=\"center\", fontsize=15, color=\"blue\", pad=25)\n",
    "plt.xlabel(\"Total Counts\", color=\"magenta\", fontsize=10, labelpad=15)\n",
    "plt.xticks(rotation=0)\n",
    "plt.ylabel(\"Top Words\", color=\"cyan\", fontsize=10, labelpad=15)\n",
    "plt.show()"
   ]
  },
  {
   "cell_type": "code",
   "execution_count": 42,
   "metadata": {
    "colab": {
     "base_uri": "https://localhost:8080/",
     "height": 382
    },
    "id": "In6iKNqEjjlh",
    "outputId": "121eb149-c8e4-4dd3-c8c7-d78d894bfd43"
   },
   "outputs": [
    {
     "data": {
      "image/png": "[encoded data removed]",
      "text/plain": [
       "<Figure size 1000x500 with 1 Axes>"
      ]
     },
     "metadata": {},
     "output_type": "display_data"
    }
   ],
   "source": [
    "import pandas as pd\n",
    "import matplotlib.pyplot as plt\n",
    "\n",
    "# Assuming Gram_Analysis is defined elsewhere\n",
    "# words = Gram_Analysis(Negative[\"review_description\"], 1, 20)\n",
    "# For demonstration, let's assume words is a list of tuples\n",
    "words = [(\"word1\", 10), (\"word2\", 15), (\"word3\", 5)]  # Example data\n",
    "\n",
    "Unigram = pd.DataFrame(words, columns=[\"Words\", \"Counts\"])\n",
    "\n",
    "# Visualization\n",
    "Unigram.groupby(\"Words\").sum()[\"Counts\"].sort_values().plot(kind=\"barh\", color=\"red\", figsize=(10, 5))\n",
    "plt.title(\"Unigram of Reviews with Negative Sentiments\", loc=\"center\", fontsize=15, color=\"blue\", pad=25)\n",
    "plt.xlabel(\"Total Counts\", color=\"magenta\", fontsize=10, labelpad=15)\n",
    "plt.xticks(rotation=0)\n",
    "plt.ylabel(\"Top Words\", color=\"cyan\", fontsize=10, labelpad=15)\n",
    "plt.show()"
   ]
  },
  {
   "cell_type": "markdown",
   "metadata": {
    "id": "z_4SD31UoPxX"
   },
   "source": [
    "*These unigrams are not really accurate, because we can clearly see that even for postive sentiments, the top unigram is the wird `guitar` which is an object, though from here we might know that the most frequently bought items are guitars or the complement of it. We should try to find the bigram and see how accurate it can describe each sentiments*"
   ]
  },
  {
   "cell_type": "markdown",
   "metadata": {
    "id": "rSnI3JVPpAKM"
   },
   "source": [
    "**Bigram of Reviews Based On Sentiments**"
   ]
  },
  {
   "cell_type": "code",
   "execution_count": 44,
   "metadata": {
    "colab": {
     "base_uri": "https://localhost:8080/",
     "height": 382
    },
    "id": "2oIHS9y7pJf8",
    "outputId": "2cfcbb72-7f1e-4730-911d-2104d05430c9"
   },
   "outputs": [
    {
     "data": {
      "image/png": "[encoded data removed]",
      "text/plain": [
       "<Figure size 1000x500 with 1 Axes>"
      ]
     },
     "metadata": {},
     "output_type": "display_data"
    }
   ],
   "source": [
    "import pandas as pd\n",
    "import matplotlib.pyplot as plt\n",
    "\n",
    "# Assuming Gram_Analysis is defined elsewhere\n",
    "# words = Gram_Analysis(Positive[\"review_description\"], 2, 20)\n",
    "# For demonstration, let's assume words is a list of tuples\n",
    "words = [(\"word1 word2\", 10), (\"word3 word4\", 15), (\"word5 word6\", 5)]  # Example data\n",
    "\n",
    "Bigram = pd.DataFrame(words, columns=[\"Words\", \"Counts\"])\n",
    "\n",
    "# Visualization\n",
    "Bigram.groupby(\"Words\").sum()[\"Counts\"].sort_values().plot(kind=\"barh\", color=\"green\", figsize=(10, 5))\n",
    "plt.title(\"Bigram of Reviews with Positive Sentiments\", loc=\"center\", fontsize=15, color=\"blue\", pad=25)\n",
    "plt.xlabel(\"Total Counts\", color=\"magenta\", fontsize=10, labelpad=15)\n",
    "plt.xticks(rotation=0)\n",
    "plt.ylabel(\"Top Words\", color=\"cyan\", fontsize=10, labelpad=15)\n",
    "plt.show()"
   ]
  },
  {
   "cell_type": "code",
   "execution_count": 46,
   "metadata": {
    "colab": {
     "base_uri": "https://localhost:8080/",
     "height": 382
    },
    "id": "nnhMg2rkpNpB",
    "outputId": "4791ae5f-ff0d-42dc-dab8-01379dc5faa0"
   },
   "outputs": [
    {
     "data": {
      "image/png": "[encoded data removed]",
      "text/plain": [
       "<Figure size 1000x500 with 1 Axes>"
      ]
     },
     "metadata": {},
     "output_type": "display_data"
    }
   ],
   "source": [
    "import pandas as pd\n",
    "import matplotlib.pyplot as plt\n",
    "\n",
    "# Assuming Gram_Analysis is defined elsewhere\n",
    "# words = Gram_Analysis(Neutral[\"review_description\"], 2, 20)\n",
    "# For demonstration, let's assume words is a list of tuples\n",
    "words = [(\"word1 word2\", 10), (\"word3 word4\", 15), (\"word5 word6\", 5)]  # Example data\n",
    "\n",
    "Bigram = pd.DataFrame(words, columns=[\"Words\", \"Counts\"])\n",
    "\n",
    "# Visualization\n",
    "Bigram.groupby(\"Words\").sum()[\"Counts\"].sort_values().plot(kind=\"barh\", color=\"orange\", figsize=(10, 5))\n",
    "plt.title(\"Bigram of Reviews with Neutral Sentiments\", loc=\"center\", fontsize=15, color=\"blue\", pad=25)\n",
    "plt.xlabel(\"Total Counts\", color=\"magenta\", fontsize=10, labelpad=15)\n",
    "plt.xticks(rotation=0)\n",
    "plt.ylabel(\"Top Words\", color=\"cyan\", fontsize=10, labelpad=15)\n",
    "plt.show()"
   ]
  },
  {
   "cell_type": "code",
   "execution_count": 47,
   "metadata": {
    "colab": {
     "base_uri": "https://localhost:8080/",
     "height": 382
    },
    "id": "B35-wFxKpevY",
    "outputId": "d76fc7c8-4c47-4add-d251-87c3f712c3e8"
   },
   "outputs": [],
   "source": [
    "# # Finding Bigram\n",
    "# words = Gram_Analysis(Negative[\"reviews\"], 2, 20)\n",
    "# Bigram = pd.DataFrame(words, columns = [\"Words\", \"Counts\"])\n",
    "\n",
    "# # Visualization\n",
    "# Bigram.groupby(\"Words\").sum()[\"Counts\"].sort_values().plot(kind = \"barh\", color = \"red\", figsize = (10, 5))\n",
    "# plt.title(\"Bigram of Reviews with Negative Sentiments\", loc = \"center\", fontsize = 15, color = \"blue\", pad = 25)\n",
    "# plt.xlabel(\"Total Counts\", color = \"magenta\", fontsize = 10, labelpad = 15)\n",
    "# plt.xticks(rotation = 0)\n",
    "# plt.ylabel(\"Top Words\", color = \"cyan\", fontsize = 10, labelpad = 15)\n",
    "# plt.show()"
   ]
  },
  {
   "cell_type": "markdown",
   "metadata": {
    "id": "vjmo58yEragB"
   },
   "source": [
    "*The bigrams work better than the unigrams, because we can actually see some phrases that really describe what a good sentiment is. Although, in some parts we can still see guitar objects as the top words, which make us believe that our interpretation about the most selling items are related to guitars.*"
   ]
  },
  {
   "cell_type": "markdown",
   "metadata": {
    "id": "up8j4O_UtMZd"
   },
   "source": [
    "**Trigram of Reviews Based On Sentiments**"
   ]
  },
  {
   "cell_type": "code",
   "execution_count": 48,
   "metadata": {
    "colab": {
     "base_uri": "https://localhost:8080/",
     "height": 382
    },
    "id": "KBi4o3VKtN4K",
    "outputId": "6e93432a-57d8-45f5-d472-62f1e89b949c"
   },
   "outputs": [],
   "source": [
    "# # Finding Trigram\n",
    "# words = Gram_Analysis(Positive[\"reviews\"], 3, 20)\n",
    "# Trigram = pd.DataFrame(words, columns = [\"Words\", \"Counts\"])\n",
    "\n",
    "# # Visualization\n",
    "# Trigram.groupby(\"Words\").sum()[\"Counts\"].sort_values().plot(kind = \"barh\", color = \"green\", figsize = (10, 5))\n",
    "# plt.title(\"Trigram of Reviews with Positive Sentiments\", loc = \"center\", fontsize = 15, color = \"blue\", pad = 25)\n",
    "# plt.xlabel(\"Total Counts\", color = \"magenta\", fontsize = 10, labelpad = 15)\n",
    "# plt.xticks(rotation = 0)\n",
    "# plt.ylabel(\"Top Words\", color = \"cyan\", fontsize = 10, labelpad = 15)\n",
    "# plt.show()"
   ]
  },
  {
   "cell_type": "code",
   "execution_count": 49,
   "metadata": {
    "colab": {
     "base_uri": "https://localhost:8080/",
     "height": 382
    },
    "id": "wSKNXcentoTl",
    "outputId": "aa1dc9f6-2016-4906-d45b-036851889961"
   },
   "outputs": [],
   "source": [
    "# # Finding Trigram\n",
    "# words = Gram_Analysis(Neutral[\"reviews\"], 3, 20)\n",
    "# Trigram = pd.DataFrame(words, columns = [\"Words\", \"Counts\"])\n",
    "\n",
    "# # Visualization\n",
    "# Trigram.groupby(\"Words\").sum()[\"Counts\"].sort_values().plot(kind = \"barh\", color = \"orange\", figsize = (10, 5))\n",
    "# plt.title(\"Trigram of Reviews with Neutral Sentiments\", loc = \"center\", fontsize = 15, color = \"blue\", pad = 25)\n",
    "# plt.xlabel(\"Total Counts\", color = \"magenta\", fontsize = 10, labelpad = 15)\n",
    "# plt.xticks(rotation = 0)\n",
    "# plt.ylabel(\"Top Words\", color = \"cyan\", fontsize = 10, labelpad = 15)\n",
    "# plt.show()"
   ]
  },
  {
   "cell_type": "code",
   "execution_count": 51,
   "metadata": {
    "colab": {
     "base_uri": "https://localhost:8080/",
     "height": 382
    },
    "id": "VU126AKCt36p",
    "outputId": "2548b3a1-b5ff-4900-fd64-6379ddbbd006"
   },
   "outputs": [],
   "source": [
    "# # Finding Trigram\n",
    "# words = Gram_Analysis(Negative[\"reviews\"], 3, 20)\n",
    "# Trigram = pd.DataFrame(words, columns = [\"Words\", \"Counts\"])\n",
    "\n",
    "# # Visualization\n",
    "# Trigram.groupby(\"Words\").sum()[\"Counts\"].sort_values().plot(kind = \"barh\", color = \"red\", figsize = (10, 5))\n",
    "# plt.title(\"Trigram of Reviews with Negative Sentiments\", loc = \"center\", fontsize = 15, color = \"blue\", pad = 25)\n",
    "# plt.xlabel(\"Total Counts\", color = \"magenta\", fontsize = 10, labelpad = 15)\n",
    "# plt.xticks(rotation = 0)\n",
    "# plt.ylabel(\"Top Words\", color = \"cyan\", fontsize = 10, labelpad = 15)\n",
    "# plt.show()"
   ]
  },
  {
   "cell_type": "markdown",
   "metadata": {
    "id": "6paA10twuK9q"
   },
   "source": [
    "*We can say that the trigrams are slightly better to describe each sentiments, although negative trigrams say a lot about bad products which we can infer from the top words above. From the N-Gram Analysis, we can also see how the decision of not removing `not` in our list of stopwords affects our data as we keep the meaning of negation phrases.*"
   ]
  },
  {
   "cell_type": "markdown",
   "metadata": {
    "id": "7VKfgfFV4wWc"
   },
   "source": [
    "\n",
    "\n",
    "---\n",
    "\n"
   ]
  },
  {
   "cell_type": "markdown",
   "metadata": {
    "id": "Rj01PMJZzL7P"
   },
   "source": [
    "# Word Clouds"
   ]
  },
  {
   "cell_type": "markdown",
   "metadata": {
    "id": "2NZnM8c6zi-a"
   },
   "source": [
    "**Word Cloud of Reviews with Positive Sentiments**"
   ]
  },
  {
   "cell_type": "code",
   "execution_count": null,
   "metadata": {},
   "outputs": [
    {
     "data": {
      "text/html": [
       "<div>\n",
       "<style scoped>\n",
       "    .dataframe tbody tr th:only-of-type {\n",
       "        vertical-align: middle;\n",
       "    }\n",
       "\n",
       "    .dataframe tbody tr th {\n",
       "        vertical-align: top;\n",
       "    }\n",
       "\n",
       "    .dataframe thead th {\n",
       "        text-align: right;\n",
       "    }\n",
       "</style>\n",
       "<table border=\"1\" class=\"dataframe\">\n",
       "  <thead>\n",
       "    <tr style=\"text-align: right;\">\n",
       "      <th></th>\n",
       "      <th>source</th>\n",
       "      <th>review_id</th>\n",
       "      <th>user_name</th>\n",
       "      <th>review_title</th>\n",
       "      <th>review_description</th>\n",
       "      <th>rating</th>\n",
       "      <th>thumbs_up</th>\n",
       "      <th>review_date</th>\n",
       "      <th>developer_response</th>\n",
       "      <th>developer_response_date</th>\n",
       "      <th>appVersion</th>\n",
       "      <th>language_code</th>\n",
       "      <th>country_code</th>\n",
       "      <th>app_name</th>\n",
       "      <th>sentiment</th>\n",
       "      <th>polarity</th>\n",
       "      <th>length</th>\n",
       "      <th>word_counts</th>\n",
       "    </tr>\n",
       "  </thead>\n",
       "  <tbody>\n",
       "    <tr>\n",
       "      <th>0</th>\n",
       "      <td>Google Play</td>\n",
       "      <td>f18a5ffe-872c-4f63-bf38-2c0eb5a52170</td>\n",
       "      <td>A Google user</td>\n",
       "      <td>NaN</td>\n",
       "      <td>apps useful best service</td>\n",
       "      <td>5</td>\n",
       "      <td>0</td>\n",
       "      <td>2024-10-10 10:36:15</td>\n",
       "      <td>NaN</td>\n",
       "      <td>NaN</td>\n",
       "      <td>2.1.8</td>\n",
       "      <td>en</td>\n",
       "      <td>us</td>\n",
       "      <td>com.twgbd.dims</td>\n",
       "      <td>Positive</td>\n",
       "      <td>0.65</td>\n",
       "      <td>24</td>\n",
       "      <td>4</td>\n",
       "    </tr>\n",
       "    <tr>\n",
       "      <th>1</th>\n",
       "      <td>Google Play</td>\n",
       "      <td>79ea060a-e2fb-44e5-a2b1-8525f21b5323</td>\n",
       "      <td>A Google user</td>\n",
       "      <td>NaN</td>\n",
       "      <td>interestin</td>\n",
       "      <td>5</td>\n",
       "      <td>0</td>\n",
       "      <td>2024-10-10 06:56:36</td>\n",
       "      <td>NaN</td>\n",
       "      <td>NaN</td>\n",
       "      <td>2.1.8</td>\n",
       "      <td>en</td>\n",
       "      <td>us</td>\n",
       "      <td>com.twgbd.dims</td>\n",
       "      <td>Positive</td>\n",
       "      <td>0.00</td>\n",
       "      <td>10</td>\n",
       "      <td>1</td>\n",
       "    </tr>\n",
       "    <tr>\n",
       "      <th>2</th>\n",
       "      <td>Google Play</td>\n",
       "      <td>53f9e22f-cbb4-48ee-9e1b-a339ad4760ca</td>\n",
       "      <td>A Google user</td>\n",
       "      <td>NaN</td>\n",
       "      <td>good apps</td>\n",
       "      <td>5</td>\n",
       "      <td>0</td>\n",
       "      <td>2024-10-10 06:52:01</td>\n",
       "      <td>NaN</td>\n",
       "      <td>NaN</td>\n",
       "      <td>2.1.8</td>\n",
       "      <td>en</td>\n",
       "      <td>us</td>\n",
       "      <td>com.twgbd.dims</td>\n",
       "      <td>Positive</td>\n",
       "      <td>0.70</td>\n",
       "      <td>9</td>\n",
       "      <td>2</td>\n",
       "    </tr>\n",
       "    <tr>\n",
       "      <th>3</th>\n",
       "      <td>Google Play</td>\n",
       "      <td>4170d3ff-6f9f-45f6-910f-04a131b4a081</td>\n",
       "      <td>A Google user</td>\n",
       "      <td>NaN</td>\n",
       "      <td>nice app</td>\n",
       "      <td>5</td>\n",
       "      <td>0</td>\n",
       "      <td>2024-10-10 06:46:15</td>\n",
       "      <td>NaN</td>\n",
       "      <td>NaN</td>\n",
       "      <td>2.1.8</td>\n",
       "      <td>en</td>\n",
       "      <td>us</td>\n",
       "      <td>com.twgbd.dims</td>\n",
       "      <td>Positive</td>\n",
       "      <td>0.60</td>\n",
       "      <td>8</td>\n",
       "      <td>2</td>\n",
       "    </tr>\n",
       "    <tr>\n",
       "      <th>4</th>\n",
       "      <td>Google Play</td>\n",
       "      <td>16e82105-ecb2-45ca-be80-9283490047ed</td>\n",
       "      <td>A Google user</td>\n",
       "      <td>NaN</td>\n",
       "      <td>good apps</td>\n",
       "      <td>5</td>\n",
       "      <td>0</td>\n",
       "      <td>2024-10-10 05:35:54</td>\n",
       "      <td>NaN</td>\n",
       "      <td>NaN</td>\n",
       "      <td>2.1.8</td>\n",
       "      <td>en</td>\n",
       "      <td>us</td>\n",
       "      <td>com.twgbd.dims</td>\n",
       "      <td>Positive</td>\n",
       "      <td>0.70</td>\n",
       "      <td>9</td>\n",
       "      <td>2</td>\n",
       "    </tr>\n",
       "  </tbody>\n",
       "</table>\n",
       "</div>"
      ],
      "text/plain": [
       "        source                             review_id      user_name  \\\n",
       "0  Google Play  f18a5ffe-872c-4f63-bf38-2c0eb5a52170  A Google user   \n",
       "1  Google Play  79ea060a-e2fb-44e5-a2b1-8525f21b5323  A Google user   \n",
       "2  Google Play  53f9e22f-cbb4-48ee-9e1b-a339ad4760ca  A Google user   \n",
       "3  Google Play  4170d3ff-6f9f-45f6-910f-04a131b4a081  A Google user   \n",
       "4  Google Play  16e82105-ecb2-45ca-be80-9283490047ed  A Google user   \n",
       "\n",
       "   review_title        review_description  rating  thumbs_up  \\\n",
       "0           NaN  apps useful best service       5          0   \n",
       "1           NaN                interestin       5          0   \n",
       "2           NaN                 good apps       5          0   \n",
       "3           NaN                  nice app       5          0   \n",
       "4           NaN                 good apps       5          0   \n",
       "\n",
       "           review_date developer_response developer_response_date appVersion  \\\n",
       "0  2024-10-10 10:36:15                NaN                     NaN      2.1.8   \n",
       "1  2024-10-10 06:56:36                NaN                     NaN      2.1.8   \n",
       "2  2024-10-10 06:52:01                NaN                     NaN      2.1.8   \n",
       "3  2024-10-10 06:46:15                NaN                     NaN      2.1.8   \n",
       "4  2024-10-10 05:35:54                NaN                     NaN      2.1.8   \n",
       "\n",
       "  language_code country_code        app_name sentiment  polarity  length  \\\n",
       "0            en           us  com.twgbd.dims  Positive      0.65      24   \n",
       "1            en           us  com.twgbd.dims  Positive      0.00      10   \n",
       "2            en           us  com.twgbd.dims  Positive      0.70       9   \n",
       "3            en           us  com.twgbd.dims  Positive      0.60       8   \n",
       "4            en           us  com.twgbd.dims  Positive      0.70       9   \n",
       "\n",
       "   word_counts  \n",
       "0            4  \n",
       "1            1  \n",
       "2            2  \n",
       "3            2  \n",
       "4            2  "
      ]
     },
     "execution_count": 54,
     "metadata": {},
     "output_type": "execute_result"
    }
   ],
   "source": [
    "dataset.head("
   ]
  },
  {
   "cell_type": "code",
   "execution_count": null,
   "metadata": {},
   "outputs": [],
   "source": []
  },
  {
   "cell_type": "code",
   "execution_count": 59,
   "metadata": {
    "colab": {
     "base_uri": "https://localhost:8080/",
     "height": 449
    },
    "id": "AEHji5Y20hrt",
    "outputId": "ef14bb92-87c8-42b3-a531-0da334695f9a"
   },
   "outputs": [
    {
     "name": "stdout",
     "output_type": "stream",
     "text": [
      "The 'review_description' column is missing or empty.\n"
     ]
    }
   ],
   "source": [
    "from wordcloud import WordCloud\n",
    "import matplotlib.pyplot as plt\n",
    "\n",
    "# Check if the column exists and is not empty\n",
    "if \"review_description\" in Positive.columns and not Positive[\"review_description\"].empty:\n",
    "    # Join all reviews into a single string\n",
    "    text = \" \".join(review for review in Positive[\"review_description\"] if isinstance(review, str))\n",
    "    \n",
    "    # Debugging: Print the first 500 characters of the text to ensure it's not empty\n",
    "    print(\"Sample text data:\", text[:500])\n",
    "    \n",
    "    if text.strip():  # Check if the text is not empty\n",
    "        # Generate word cloud\n",
    "        wordCloud = WordCloud(max_words=150, width=3000, height=1500, stopwords=Stopwords).generate(text)\n",
    "\n",
    "        # Display the word cloud\n",
    "        plt.figure(figsize=(15, 15))\n",
    "        plt.imshow(wordCloud, interpolation=\"bilinear\")\n",
    "        plt.axis(\"off\")\n",
    "        plt.show()\n",
    "    else:\n",
    "        print(\"The text data is empty after processing.\")\n",
    "else:\n",
    "    print(\"The 'review_description' column is missing or empty.\")"
   ]
  },
  {
   "cell_type": "markdown",
   "metadata": {
    "id": "-dAiVeMT34kn"
   },
   "source": [
    "**Word Cloud of Reviews with Neutral Sentiments**"
   ]
  },
  {
   "cell_type": "code",
   "execution_count": 63,
   "metadata": {},
   "outputs": [
    {
     "name": "stdout",
     "output_type": "stream",
     "text": [
      "Empty DataFrame\n",
      "Columns: [source, review_id, user_name, review_title, review_description, rating, thumbs_up, review_date, developer_response, developer_response_date, appVersion, language_code, country_code, app_name, sentiment, polarity, length, word_counts]\n",
      "Index: []\n"
     ]
    }
   ],
   "source": [
    "print(Positive.head())"
   ]
  },
  {
   "cell_type": "markdown",
   "metadata": {},
   "source": []
  },
  {
   "cell_type": "code",
   "execution_count": 66,
   "metadata": {},
   "outputs": [],
   "source": [
    "# # Assuming you have a DataFrame named 'reviews' containing all reviews\n",
    "# # Filter positive reviews based on a condition, e.g., rating >= 4\n",
    "# Positive = dataset[review_description['rating'] >= 4]\n",
    "\n",
    "# # Check if the Positive DataFrame is still empty\n",
    "# if Positive.empty:\n",
    "#     print(\"The Positive DataFrame is empty after filtering.\")\n",
    "# else:\n",
    "#     print(\"The Positive DataFrame is populated.\")\n",
    "#     print(Positive.head())"
   ]
  },
  {
   "cell_type": "code",
   "execution_count": null,
   "metadata": {
    "colab": {
     "base_uri": "https://localhost:8080/",
     "height": 449
    },
    "id": "4GDTtnAh4ALi",
    "outputId": "76443ae0-0d47-47d2-f0ab-565d20b1dc32"
   },
   "outputs": [
    {
     "data": {
      "image/png": "[encoded data removed]",
      "text/plain": [
       "<Figure size 1500x1500 with 1 Axes>"
      ]
     },
     "metadata": {},
     "output_type": "display_data"
    }
   ],
   "source": [
    "# wordCloud = WordCloud(max_words = 50, width = 3000, height = 1500, stopwords = Stopwords).generate(str(Neutral[\"review_description\"]))\n",
    "# plt.figure(figsize = (15, 15))\n",
    "# plt.imshow(wordCloud, interpolation = \"bilinear\")\n",
    "# plt.axis(\"off\")\n",
    "# plt.show()"
   ]
  },
  {
   "cell_type": "markdown",
   "metadata": {
    "id": "IVp22Sco4EvW"
   },
   "source": [
    "**Word Cloud of Reviews with Negative Sentiments**"
   ]
  },
  {
   "cell_type": "code",
   "execution_count": null,
   "metadata": {
    "colab": {
     "base_uri": "https://localhost:8080/",
     "height": 449
    },
    "id": "nAToVGfB4EIf",
    "outputId": "d17d056d-3459-4029-a7bb-008bddcdb2a3"
   },
   "outputs": [],
   "source": [
    "# wordCloud = WordCloud(max_words = 50, width = 3000, height = 1500, stopwords = Stopwords).generate(str(Negative[\"reviews\"]))\n",
    "# plt.figure(figsize = (15, 15))\n",
    "# plt.imshow(wordCloud, interpolation = \"bilinear\")\n",
    "# plt.axis(\"off\")\n",
    "# plt.show()"
   ]
  },
  {
   "cell_type": "markdown",
   "metadata": {
    "id": "4HI_mP3V4K4_"
   },
   "source": [
    "*From these word clouds, not only we can see words that really describe our sentiments, but just like our N-Grams Analysis we can see objects being discussed in the reviews given.*"
   ]
  },
  {
   "cell_type": "markdown",
   "metadata": {
    "id": "Anj8JI4W4yGk"
   },
   "source": [
    "\n",
    "\n",
    "---\n",
    "\n"
   ]
  },
  {
   "cell_type": "markdown",
   "metadata": {
    "id": "2IGnAVPCzHn4"
   },
   "source": [
    "# Feature Engineering"
   ]
  },
  {
   "cell_type": "markdown",
   "metadata": {
    "id": "SFxgcUyXvdNy"
   },
   "source": [
    "**Drop Insignificant Columns**"
   ]
  },
  {
   "cell_type": "code",
   "execution_count": 68,
   "metadata": {
    "id": "lBRuOTa5rqnH"
   },
   "outputs": [],
   "source": [
    "Columns = [\"source\", \"review_id\", \"user_name\", \"review_title\", \"thumbs_up\", \"review_date\", \"developer_response\", \"developer_response_date\", \"appVersion\", \"language_code\", \"country_code\", 'app_name']\n",
    "dataset.drop(columns = Columns, axis = 1, inplace = True)"
   ]
  },
  {
   "cell_type": "markdown",
   "metadata": {
    "id": "uodzSU3npOnx"
   },
   "source": [
    "*We dropped these columns to make our dataset concise. We now have two columns as our independent variables and the last column as dependent variables. To continue, we must encode our label as a set of numbers corresponding to each categories of it.*"
   ]
  },
  {
   "cell_type": "markdown",
   "metadata": {
    "id": "-ZMN_krlO9V8"
   },
   "source": [
    "**Current State of The Dataset**"
   ]
  },
  {
   "cell_type": "code",
   "execution_count": 69,
   "metadata": {
    "colab": {
     "base_uri": "https://localhost:8080/",
     "height": 195
    },
    "id": "qef_ONDPO8EA",
    "outputId": "5d2fde46-2f9a-4f63-98a8-2ee115907931"
   },
   "outputs": [
    {
     "data": {
      "text/html": [
       "<div>\n",
       "<style scoped>\n",
       "    .dataframe tbody tr th:only-of-type {\n",
       "        vertical-align: middle;\n",
       "    }\n",
       "\n",
       "    .dataframe tbody tr th {\n",
       "        vertical-align: top;\n",
       "    }\n",
       "\n",
       "    .dataframe thead th {\n",
       "        text-align: right;\n",
       "    }\n",
       "</style>\n",
       "<table border=\"1\" class=\"dataframe\">\n",
       "  <thead>\n",
       "    <tr style=\"text-align: right;\">\n",
       "      <th></th>\n",
       "      <th>review_description</th>\n",
       "      <th>rating</th>\n",
       "      <th>sentiment</th>\n",
       "      <th>polarity</th>\n",
       "      <th>length</th>\n",
       "      <th>word_counts</th>\n",
       "    </tr>\n",
       "  </thead>\n",
       "  <tbody>\n",
       "    <tr>\n",
       "      <th>0</th>\n",
       "      <td>apps useful best service</td>\n",
       "      <td>5</td>\n",
       "      <td>Positive</td>\n",
       "      <td>0.65</td>\n",
       "      <td>24</td>\n",
       "      <td>4</td>\n",
       "    </tr>\n",
       "    <tr>\n",
       "      <th>1</th>\n",
       "      <td>interestin</td>\n",
       "      <td>5</td>\n",
       "      <td>Positive</td>\n",
       "      <td>0.00</td>\n",
       "      <td>10</td>\n",
       "      <td>1</td>\n",
       "    </tr>\n",
       "    <tr>\n",
       "      <th>2</th>\n",
       "      <td>good apps</td>\n",
       "      <td>5</td>\n",
       "      <td>Positive</td>\n",
       "      <td>0.70</td>\n",
       "      <td>9</td>\n",
       "      <td>2</td>\n",
       "    </tr>\n",
       "    <tr>\n",
       "      <th>3</th>\n",
       "      <td>nice app</td>\n",
       "      <td>5</td>\n",
       "      <td>Positive</td>\n",
       "      <td>0.60</td>\n",
       "      <td>8</td>\n",
       "      <td>2</td>\n",
       "    </tr>\n",
       "    <tr>\n",
       "      <th>4</th>\n",
       "      <td>good apps</td>\n",
       "      <td>5</td>\n",
       "      <td>Positive</td>\n",
       "      <td>0.70</td>\n",
       "      <td>9</td>\n",
       "      <td>2</td>\n",
       "    </tr>\n",
       "  </tbody>\n",
       "</table>\n",
       "</div>"
      ],
      "text/plain": [
       "         review_description  rating sentiment  polarity  length  word_counts\n",
       "0  apps useful best service       5  Positive      0.65      24            4\n",
       "1                interestin       5  Positive      0.00      10            1\n",
       "2                 good apps       5  Positive      0.70       9            2\n",
       "3                  nice app       5  Positive      0.60       8            2\n",
       "4                 good apps       5  Positive      0.70       9            2"
      ]
     },
     "execution_count": 69,
     "metadata": {},
     "output_type": "execute_result"
    }
   ],
   "source": [
    "dataset.head()"
   ]
  },
  {
   "cell_type": "markdown",
   "metadata": {
    "id": "BxSGQHFBSRyB"
   },
   "source": [
    "**Encoding Our Target Variable**"
   ]
  },
  {
   "cell_type": "code",
   "execution_count": 70,
   "metadata": {
    "id": "7WtLy2ndSXnh"
   },
   "outputs": [],
   "source": [
    "Encoder = LabelEncoder()\n",
    "dataset[\"sentiment\"] = Encoder.fit_transform(dataset[\"sentiment\"])"
   ]
  },
  {
   "cell_type": "code",
   "execution_count": 71,
   "metadata": {
    "colab": {
     "base_uri": "https://localhost:8080/"
    },
    "id": "nNEi0k9YS2Rs",
    "outputId": "fb8ad1cf-9249-4274-c6ba-352859e4624e"
   },
   "outputs": [
    {
     "data": {
      "text/plain": [
       "sentiment\n",
       "2    56454\n",
       "0     6606\n",
       "1     2210\n",
       "Name: count, dtype: int64"
      ]
     },
     "execution_count": 71,
     "metadata": {},
     "output_type": "execute_result"
    }
   ],
   "source": [
    "dataset[\"sentiment\"].value_counts()"
   ]
  },
  {
   "cell_type": "markdown",
   "metadata": {
    "id": "hcgp_u45TNLA"
   },
   "source": [
    "*We had successfully encoded our sentiment into numbers so that our model can easily figure it out. From above, we know that the label `Positive` is encoded into 2, `Neutral` into 1, and `Negative` into 0. Now, we have to give importance of each words in the whole review, i.e. giving them weights. We can do this by using TF-IDF (Term Frequency - Inverse Document Frequency) Vectorizer.*"
   ]
  },
  {
   "cell_type": "markdown",
   "metadata": {
    "id": "tN-4FUIoUykS"
   },
   "source": [
    "**TF-IDF Vectorizer**"
   ]
  },
  {
   "cell_type": "code",
   "execution_count": 72,
   "metadata": {
    "colab": {
     "base_uri": "https://localhost:8080/"
    },
    "id": "e-goqiicUxn0",
    "outputId": "c36494e7-e6ff-4d53-ace2-f6f215b9a54a"
   },
   "outputs": [
    {
     "data": {
      "text/plain": [
       "(65270, 5000)"
      ]
     },
     "execution_count": 72,
     "metadata": {},
     "output_type": "execute_result"
    }
   ],
   "source": [
    "# Defining our vectorizer with total words of 5000 and with bigram model\n",
    "TF_IDF = TfidfVectorizer(max_features = 5000, ngram_range = (2, 2))\n",
    "\n",
    "# Fitting and transforming our reviews into a matrix of weighed words\n",
    "# This will be our independent features\n",
    "X = TF_IDF.fit_transform(dataset[\"review_description\"])\n",
    "\n",
    "# Check our matrix shape\n",
    "X.shape"
   ]
  },
  {
   "cell_type": "code",
   "execution_count": 73,
   "metadata": {
    "id": "mWsg-pk0X-s6"
   },
   "outputs": [],
   "source": [
    "# Declaring our target variable\n",
    "y = dataset[\"sentiment\"]"
   ]
  },
  {
   "cell_type": "markdown",
   "metadata": {
    "id": "Tw_B_VoUWfTW"
   },
   "source": [
    "*From the shape, we successfully transformed our reviews with TF-IDF Vectorizer of 7000 top bigram words. Now, as we know from before, our data is kind of imbalanced with very little neutral and negative values compared to positive sentiments. We need to balance our dataset before going into modelling process.*"
   ]
  },
  {
   "cell_type": "markdown",
   "metadata": {
    "id": "_Hy3K0e9YHWu"
   },
   "source": [
    "**Resampling Our Dataset**"
   ]
  },
  {
   "cell_type": "markdown",
   "metadata": {
    "id": "R1vqIWbKYK_2"
   },
   "source": [
    "*There are many ways to do resampling to an imbalanced dataset, such as SMOTE and Bootstrap Method. We will use SMOTE (Synthetic Minority Oversampling Technique) that will randomly generate new replicates of our undersampling data to balance our dataset.*"
   ]
  },
  {
   "cell_type": "code",
   "execution_count": 74,
   "metadata": {
    "colab": {
     "base_uri": "https://localhost:8080/"
    },
    "id": "52ccFK9Xa67W",
    "outputId": "1cb0e77d-719c-40dc-f93c-73f04d428eb2"
   },
   "outputs": [
    {
     "data": {
      "text/plain": [
       "Counter({2: 56454, 0: 6606, 1: 2210})"
      ]
     },
     "execution_count": 74,
     "metadata": {},
     "output_type": "execute_result"
    }
   ],
   "source": [
    "Counter(y)"
   ]
  },
  {
   "cell_type": "code",
   "execution_count": 75,
   "metadata": {
    "colab": {
     "base_uri": "https://localhost:8080/"
    },
    "id": "43Cx9Se-YGdq",
    "outputId": "90c05b19-ca8b-4c89-bf8c-12454ce80c41"
   },
   "outputs": [],
   "source": [
    "Balancer = SMOTE(random_state = 42)\n",
    "X_final, y_final = Balancer.fit_resample(X, y)"
   ]
  },
  {
   "cell_type": "code",
   "execution_count": 76,
   "metadata": {
    "colab": {
     "base_uri": "https://localhost:8080/"
    },
    "id": "OwTkzRzZZanA",
    "outputId": "547caf7d-f904-47d5-f35c-ec35017e458f"
   },
   "outputs": [
    {
     "data": {
      "text/plain": [
       "Counter({2: 56454, 0: 56454, 1: 56454})"
      ]
     },
     "execution_count": 76,
     "metadata": {},
     "output_type": "execute_result"
    }
   ],
   "source": [
    "Counter(y_final)"
   ]
  },
  {
   "cell_type": "markdown",
   "metadata": {
    "id": "DQBmnh4zb6MB"
   },
   "source": [
    "*Now our data is already balanced as we can see from the counter of each sentiment categories before and after the resampling with SMOTE.*"
   ]
  },
  {
   "cell_type": "markdown",
   "metadata": {
    "id": "vgyY6IaxcdKf"
   },
   "source": [
    "**Splitting Our Dataset**"
   ]
  },
  {
   "cell_type": "code",
   "execution_count": 77,
   "metadata": {
    "id": "hborTgZccgaZ"
   },
   "outputs": [],
   "source": [
    "X_train, X_test, y_train, y_test = train_test_split(X_final, y_final, test_size = 0.25, random_state = 42)"
   ]
  },
  {
   "cell_type": "markdown",
   "metadata": {
    "id": "UddzYtN_dPxO"
   },
   "source": [
    "*We splitted our dataset into 75:25 portion respectively for the training and test set.*"
   ]
  },
  {
   "cell_type": "markdown",
   "metadata": {
    "id": "xKRl6lLj40Eh"
   },
   "source": [
    "\n",
    "\n",
    "---\n",
    "\n"
   ]
  },
  {
   "cell_type": "markdown",
   "metadata": {
    "id": "7X6-FYlYeJO5"
   },
   "source": [
    "# Model Selection and Evaluation"
   ]
  },
  {
   "cell_type": "markdown",
   "metadata": {
    "id": "HbzB2Z6weOgM"
   },
   "source": [
    "*We do not really know what is the best model that fits our data well. Because of that, we will need to try every classification models available and find the best models using the Confusion Matrix and F1 Score as our main metrics, and the rest of the metrics as our support. First, we should do some cross validation techniques in order to find the best model.*"
   ]
  },
  {
   "cell_type": "markdown",
   "metadata": {
    "id": "sf_pPZInhBJ0"
   },
   "source": [
    "**Model Building**"
   ]
  },
  {
   "cell_type": "markdown",
   "metadata": {
    "id": "1cpWmzCh5u5o"
   },
   "source": [
    "*We are using K-Fold Cross Validation on our early dataset (before resampling) because the CV itself is not affected by the imbalanced dataset as it splits the dataset and takes into account every validations. If we use the CV on the balanced dataset that we got from resampling we should be able to get similar result.*"
   ]
  },
  {
   "cell_type": "code",
   "execution_count": 78,
   "metadata": {
    "colab": {
     "base_uri": "https://localhost:8080/"
    },
    "id": "vQ-F3XV5hAnt",
    "outputId": "9b3e5581-9436-438e-cb32-b479a0b2ce14"
   },
   "outputs": [
    {
     "name": "stdout",
     "output_type": "stream",
     "text": [
      "Decision Tree Test Accuracy: 0.8619733415045197\n",
      "Logistic Regression Test Accuracy: 0.8889076145242838\n",
      "SVC Test Accuracy: 0.8859200245135591\n",
      "Random Forest Test Accuracy: 0.8768500076604872\n",
      "Naive Bayes Test Accuracy: 0.852336448598131\n",
      "K-Neighbors Test Accuracy: 0.8751187375517082\n"
     ]
    }
   ],
   "source": [
    "DTree = DecisionTreeClassifier()\n",
    "LogReg = LogisticRegression()\n",
    "SVC = SVC()\n",
    "RForest = RandomForestClassifier()\n",
    "Bayes = BernoulliNB()\n",
    "KNN = KNeighborsClassifier()\n",
    "\n",
    "Models = [DTree, LogReg, SVC, RForest, Bayes, KNN]\n",
    "Models_Dict = {0: \"Decision Tree\", 1: \"Logistic Regression\", 2: \"SVC\", 3: \"Random Forest\", 4: \"Naive Bayes\", 5: \"K-Neighbors\"}\n",
    "\n",
    "for i, model in enumerate(Models):\n",
    "  print(\"{} Test Accuracy: {}\".format(Models_Dict[i], cross_val_score(model, X, y, cv = 10, scoring = \"accuracy\").mean()))"
   ]
  },
  {
   "cell_type": "markdown",
   "metadata": {
    "id": "-WQKgchn6Go_"
   },
   "source": [
    "*We got six models on our sleeves and from the results of 10-Fold Cross Validation, we know that the `Logistic Regression` model is the best model with the highest accuracy, slightly beating the `SVC`. Because of this, we will use the best model in predicting our sentiment, also to tune our parameter and evaluate the end-result of how well the model works.*"
   ]
  },
  {
   "cell_type": "markdown",
   "metadata": {
    "id": "smCQV1iar4vt"
   },
   "source": [
    "**Hyperparameter Tuning**"
   ]
  },
  {
   "cell_type": "code",
   "execution_count": 88,
   "metadata": {
    "colab": {
     "base_uri": "https://localhost:8080/"
    },
    "id": "0AabDLn0r7yX",
    "outputId": "0e83a7ec-4e50-4f71-cded-7f52294c5e2e"
   },
   "outputs": [
    {
     "ename": "KeyboardInterrupt",
     "evalue": "",
     "output_type": "error",
     "traceback": [
      "\u001b[1;31m---------------------------------------------------------------------------\u001b[0m",
      "\u001b[1;31mKeyboardInterrupt\u001b[0m                         Traceback (most recent call last)",
      "Cell \u001b[1;32mIn[88], line 26\u001b[0m\n\u001b[0;32m     14\u001b[0m random_search \u001b[38;5;241m=\u001b[39m RandomizedSearchCV(\n\u001b[0;32m     15\u001b[0m     estimator\u001b[38;5;241m=\u001b[39mLogisticRegression(random_state\u001b[38;5;241m=\u001b[39m\u001b[38;5;241m42\u001b[39m, max_iter\u001b[38;5;241m=\u001b[39m\u001b[38;5;241m100\u001b[39m),  \u001b[38;5;66;03m# Increase max_iter to ensure convergence\u001b[39;00m\n\u001b[0;32m     16\u001b[0m     param_distributions\u001b[38;5;241m=\u001b[39mparam_dist,\n\u001b[1;32m   (...)\u001b[0m\n\u001b[0;32m     22\u001b[0m     random_state\u001b[38;5;241m=\u001b[39m\u001b[38;5;241m42\u001b[39m\n\u001b[0;32m     23\u001b[0m )\n\u001b[0;32m     25\u001b[0m \u001b[38;5;66;03m# Fit the random search to the training data\u001b[39;00m\n\u001b[1;32m---> 26\u001b[0m \u001b[43mrandom_search\u001b[49m\u001b[38;5;241;43m.\u001b[39;49m\u001b[43mfit\u001b[49m\u001b[43m(\u001b[49m\u001b[43mX_train\u001b[49m\u001b[43m,\u001b[49m\u001b[43m \u001b[49m\u001b[43my_train\u001b[49m\u001b[43m)\u001b[49m\n\u001b[0;32m     28\u001b[0m \u001b[38;5;66;03m# Get the best accuracy and parameters\u001b[39;00m\n\u001b[0;32m     29\u001b[0m best_accuracy \u001b[38;5;241m=\u001b[39m random_search\u001b[38;5;241m.\u001b[39mbest_score_\n",
      "File \u001b[1;32mc:\\Users\\USER\\AppData\\Local\\Programs\\Python\\Python311\\Lib\\site-packages\\sklearn\\base.py:1473\u001b[0m, in \u001b[0;36m_fit_context.<locals>.decorator.<locals>.wrapper\u001b[1;34m(estimator, *args, **kwargs)\u001b[0m\n\u001b[0;32m   1466\u001b[0m     estimator\u001b[38;5;241m.\u001b[39m_validate_params()\n\u001b[0;32m   1468\u001b[0m \u001b[38;5;28;01mwith\u001b[39;00m config_context(\n\u001b[0;32m   1469\u001b[0m     skip_parameter_validation\u001b[38;5;241m=\u001b[39m(\n\u001b[0;32m   1470\u001b[0m         prefer_skip_nested_validation \u001b[38;5;129;01mor\u001b[39;00m global_skip_validation\n\u001b[0;32m   1471\u001b[0m     )\n\u001b[0;32m   1472\u001b[0m ):\n\u001b[1;32m-> 1473\u001b[0m     \u001b[38;5;28;01mreturn\u001b[39;00m \u001b[43mfit_method\u001b[49m\u001b[43m(\u001b[49m\u001b[43mestimator\u001b[49m\u001b[43m,\u001b[49m\u001b[43m \u001b[49m\u001b[38;5;241;43m*\u001b[39;49m\u001b[43margs\u001b[49m\u001b[43m,\u001b[49m\u001b[43m \u001b[49m\u001b[38;5;241;43m*\u001b[39;49m\u001b[38;5;241;43m*\u001b[39;49m\u001b[43mkwargs\u001b[49m\u001b[43m)\u001b[49m\n",
      "File \u001b[1;32mc:\\Users\\USER\\AppData\\Local\\Programs\\Python\\Python311\\Lib\\site-packages\\sklearn\\model_selection\\_search.py:1019\u001b[0m, in \u001b[0;36mBaseSearchCV.fit\u001b[1;34m(self, X, y, **params)\u001b[0m\n\u001b[0;32m   1013\u001b[0m     results \u001b[38;5;241m=\u001b[39m \u001b[38;5;28mself\u001b[39m\u001b[38;5;241m.\u001b[39m_format_results(\n\u001b[0;32m   1014\u001b[0m         all_candidate_params, n_splits, all_out, all_more_results\n\u001b[0;32m   1015\u001b[0m     )\n\u001b[0;32m   1017\u001b[0m     \u001b[38;5;28;01mreturn\u001b[39;00m results\n\u001b[1;32m-> 1019\u001b[0m \u001b[38;5;28;43mself\u001b[39;49m\u001b[38;5;241;43m.\u001b[39;49m\u001b[43m_run_search\u001b[49m\u001b[43m(\u001b[49m\u001b[43mevaluate_candidates\u001b[49m\u001b[43m)\u001b[49m\n\u001b[0;32m   1021\u001b[0m \u001b[38;5;66;03m# multimetric is determined here because in the case of a callable\u001b[39;00m\n\u001b[0;32m   1022\u001b[0m \u001b[38;5;66;03m# self.scoring the return type is only known after calling\u001b[39;00m\n\u001b[0;32m   1023\u001b[0m first_test_score \u001b[38;5;241m=\u001b[39m all_out[\u001b[38;5;241m0\u001b[39m][\u001b[38;5;124m\"\u001b[39m\u001b[38;5;124mtest_scores\u001b[39m\u001b[38;5;124m\"\u001b[39m]\n",
      "File \u001b[1;32mc:\\Users\\USER\\AppData\\Local\\Programs\\Python\\Python311\\Lib\\site-packages\\sklearn\\model_selection\\_search.py:1960\u001b[0m, in \u001b[0;36mRandomizedSearchCV._run_search\u001b[1;34m(self, evaluate_candidates)\u001b[0m\n\u001b[0;32m   1958\u001b[0m \u001b[38;5;28;01mdef\u001b[39;00m \u001b[38;5;21m_run_search\u001b[39m(\u001b[38;5;28mself\u001b[39m, evaluate_candidates):\n\u001b[0;32m   1959\u001b[0m \u001b[38;5;250m    \u001b[39m\u001b[38;5;124;03m\"\"\"Search n_iter candidates from param_distributions\"\"\"\u001b[39;00m\n\u001b[1;32m-> 1960\u001b[0m     \u001b[43mevaluate_candidates\u001b[49m\u001b[43m(\u001b[49m\n\u001b[0;32m   1961\u001b[0m \u001b[43m        \u001b[49m\u001b[43mParameterSampler\u001b[49m\u001b[43m(\u001b[49m\n\u001b[0;32m   1962\u001b[0m \u001b[43m            \u001b[49m\u001b[38;5;28;43mself\u001b[39;49m\u001b[38;5;241;43m.\u001b[39;49m\u001b[43mparam_distributions\u001b[49m\u001b[43m,\u001b[49m\u001b[43m \u001b[49m\u001b[38;5;28;43mself\u001b[39;49m\u001b[38;5;241;43m.\u001b[39;49m\u001b[43mn_iter\u001b[49m\u001b[43m,\u001b[49m\u001b[43m \u001b[49m\u001b[43mrandom_state\u001b[49m\u001b[38;5;241;43m=\u001b[39;49m\u001b[38;5;28;43mself\u001b[39;49m\u001b[38;5;241;43m.\u001b[39;49m\u001b[43mrandom_state\u001b[49m\n\u001b[0;32m   1963\u001b[0m \u001b[43m        \u001b[49m\u001b[43m)\u001b[49m\n\u001b[0;32m   1964\u001b[0m \u001b[43m    \u001b[49m\u001b[43m)\u001b[49m\n",
      "File \u001b[1;32mc:\\Users\\USER\\AppData\\Local\\Programs\\Python\\Python311\\Lib\\site-packages\\sklearn\\model_selection\\_search.py:965\u001b[0m, in \u001b[0;36mBaseSearchCV.fit.<locals>.evaluate_candidates\u001b[1;34m(candidate_params, cv, more_results)\u001b[0m\n\u001b[0;32m    957\u001b[0m \u001b[38;5;28;01mif\u001b[39;00m \u001b[38;5;28mself\u001b[39m\u001b[38;5;241m.\u001b[39mverbose \u001b[38;5;241m>\u001b[39m \u001b[38;5;241m0\u001b[39m:\n\u001b[0;32m    958\u001b[0m     \u001b[38;5;28mprint\u001b[39m(\n\u001b[0;32m    959\u001b[0m         \u001b[38;5;124m\"\u001b[39m\u001b[38;5;124mFitting \u001b[39m\u001b[38;5;132;01m{0}\u001b[39;00m\u001b[38;5;124m folds for each of \u001b[39m\u001b[38;5;132;01m{1}\u001b[39;00m\u001b[38;5;124m candidates,\u001b[39m\u001b[38;5;124m\"\u001b[39m\n\u001b[0;32m    960\u001b[0m         \u001b[38;5;124m\"\u001b[39m\u001b[38;5;124m totalling \u001b[39m\u001b[38;5;132;01m{2}\u001b[39;00m\u001b[38;5;124m fits\u001b[39m\u001b[38;5;124m\"\u001b[39m\u001b[38;5;241m.\u001b[39mformat(\n\u001b[0;32m    961\u001b[0m             n_splits, n_candidates, n_candidates \u001b[38;5;241m*\u001b[39m n_splits\n\u001b[0;32m    962\u001b[0m         )\n\u001b[0;32m    963\u001b[0m     )\n\u001b[1;32m--> 965\u001b[0m out \u001b[38;5;241m=\u001b[39m \u001b[43mparallel\u001b[49m\u001b[43m(\u001b[49m\n\u001b[0;32m    966\u001b[0m \u001b[43m    \u001b[49m\u001b[43mdelayed\u001b[49m\u001b[43m(\u001b[49m\u001b[43m_fit_and_score\u001b[49m\u001b[43m)\u001b[49m\u001b[43m(\u001b[49m\n\u001b[0;32m    967\u001b[0m \u001b[43m        \u001b[49m\u001b[43mclone\u001b[49m\u001b[43m(\u001b[49m\u001b[43mbase_estimator\u001b[49m\u001b[43m)\u001b[49m\u001b[43m,\u001b[49m\n\u001b[0;32m    968\u001b[0m \u001b[43m        \u001b[49m\u001b[43mX\u001b[49m\u001b[43m,\u001b[49m\n\u001b[0;32m    969\u001b[0m \u001b[43m        \u001b[49m\u001b[43my\u001b[49m\u001b[43m,\u001b[49m\n\u001b[0;32m    970\u001b[0m \u001b[43m        \u001b[49m\u001b[43mtrain\u001b[49m\u001b[38;5;241;43m=\u001b[39;49m\u001b[43mtrain\u001b[49m\u001b[43m,\u001b[49m\n\u001b[0;32m    971\u001b[0m \u001b[43m        \u001b[49m\u001b[43mtest\u001b[49m\u001b[38;5;241;43m=\u001b[39;49m\u001b[43mtest\u001b[49m\u001b[43m,\u001b[49m\n\u001b[0;32m    972\u001b[0m \u001b[43m        \u001b[49m\u001b[43mparameters\u001b[49m\u001b[38;5;241;43m=\u001b[39;49m\u001b[43mparameters\u001b[49m\u001b[43m,\u001b[49m\n\u001b[0;32m    973\u001b[0m \u001b[43m        \u001b[49m\u001b[43msplit_progress\u001b[49m\u001b[38;5;241;43m=\u001b[39;49m\u001b[43m(\u001b[49m\u001b[43msplit_idx\u001b[49m\u001b[43m,\u001b[49m\u001b[43m \u001b[49m\u001b[43mn_splits\u001b[49m\u001b[43m)\u001b[49m\u001b[43m,\u001b[49m\n\u001b[0;32m    974\u001b[0m \u001b[43m        \u001b[49m\u001b[43mcandidate_progress\u001b[49m\u001b[38;5;241;43m=\u001b[39;49m\u001b[43m(\u001b[49m\u001b[43mcand_idx\u001b[49m\u001b[43m,\u001b[49m\u001b[43m \u001b[49m\u001b[43mn_candidates\u001b[49m\u001b[43m)\u001b[49m\u001b[43m,\u001b[49m\n\u001b[0;32m    975\u001b[0m \u001b[43m        \u001b[49m\u001b[38;5;241;43m*\u001b[39;49m\u001b[38;5;241;43m*\u001b[39;49m\u001b[43mfit_and_score_kwargs\u001b[49m\u001b[43m,\u001b[49m\n\u001b[0;32m    976\u001b[0m \u001b[43m    \u001b[49m\u001b[43m)\u001b[49m\n\u001b[0;32m    977\u001b[0m \u001b[43m    \u001b[49m\u001b[38;5;28;43;01mfor\u001b[39;49;00m\u001b[43m \u001b[49m\u001b[43m(\u001b[49m\u001b[43mcand_idx\u001b[49m\u001b[43m,\u001b[49m\u001b[43m \u001b[49m\u001b[43mparameters\u001b[49m\u001b[43m)\u001b[49m\u001b[43m,\u001b[49m\u001b[43m \u001b[49m\u001b[43m(\u001b[49m\u001b[43msplit_idx\u001b[49m\u001b[43m,\u001b[49m\u001b[43m \u001b[49m\u001b[43m(\u001b[49m\u001b[43mtrain\u001b[49m\u001b[43m,\u001b[49m\u001b[43m \u001b[49m\u001b[43mtest\u001b[49m\u001b[43m)\u001b[49m\u001b[43m)\u001b[49m\u001b[43m \u001b[49m\u001b[38;5;129;43;01min\u001b[39;49;00m\u001b[43m \u001b[49m\u001b[43mproduct\u001b[49m\u001b[43m(\u001b[49m\n\u001b[0;32m    978\u001b[0m \u001b[43m        \u001b[49m\u001b[38;5;28;43menumerate\u001b[39;49m\u001b[43m(\u001b[49m\u001b[43mcandidate_params\u001b[49m\u001b[43m)\u001b[49m\u001b[43m,\u001b[49m\n\u001b[0;32m    979\u001b[0m \u001b[43m        \u001b[49m\u001b[38;5;28;43menumerate\u001b[39;49m\u001b[43m(\u001b[49m\u001b[43mcv\u001b[49m\u001b[38;5;241;43m.\u001b[39;49m\u001b[43msplit\u001b[49m\u001b[43m(\u001b[49m\u001b[43mX\u001b[49m\u001b[43m,\u001b[49m\u001b[43m \u001b[49m\u001b[43my\u001b[49m\u001b[43m,\u001b[49m\u001b[43m \u001b[49m\u001b[38;5;241;43m*\u001b[39;49m\u001b[38;5;241;43m*\u001b[39;49m\u001b[43mrouted_params\u001b[49m\u001b[38;5;241;43m.\u001b[39;49m\u001b[43msplitter\u001b[49m\u001b[38;5;241;43m.\u001b[39;49m\u001b[43msplit\u001b[49m\u001b[43m)\u001b[49m\u001b[43m)\u001b[49m\u001b[43m,\u001b[49m\n\u001b[0;32m    980\u001b[0m \u001b[43m    \u001b[49m\u001b[43m)\u001b[49m\n\u001b[0;32m    981\u001b[0m \u001b[43m\u001b[49m\u001b[43m)\u001b[49m\n\u001b[0;32m    983\u001b[0m \u001b[38;5;28;01mif\u001b[39;00m \u001b[38;5;28mlen\u001b[39m(out) \u001b[38;5;241m<\u001b[39m \u001b[38;5;241m1\u001b[39m:\n\u001b[0;32m    984\u001b[0m     \u001b[38;5;28;01mraise\u001b[39;00m \u001b[38;5;167;01mValueError\u001b[39;00m(\n\u001b[0;32m    985\u001b[0m         \u001b[38;5;124m\"\u001b[39m\u001b[38;5;124mNo fits were performed. \u001b[39m\u001b[38;5;124m\"\u001b[39m\n\u001b[0;32m    986\u001b[0m         \u001b[38;5;124m\"\u001b[39m\u001b[38;5;124mWas the CV iterator empty? \u001b[39m\u001b[38;5;124m\"\u001b[39m\n\u001b[0;32m    987\u001b[0m         \u001b[38;5;124m\"\u001b[39m\u001b[38;5;124mWere there no candidates?\u001b[39m\u001b[38;5;124m\"\u001b[39m\n\u001b[0;32m    988\u001b[0m     )\n",
      "File \u001b[1;32mc:\\Users\\USER\\AppData\\Local\\Programs\\Python\\Python311\\Lib\\site-packages\\sklearn\\utils\\parallel.py:74\u001b[0m, in \u001b[0;36mParallel.__call__\u001b[1;34m(self, iterable)\u001b[0m\n\u001b[0;32m     69\u001b[0m config \u001b[38;5;241m=\u001b[39m get_config()\n\u001b[0;32m     70\u001b[0m iterable_with_config \u001b[38;5;241m=\u001b[39m (\n\u001b[0;32m     71\u001b[0m     (_with_config(delayed_func, config), args, kwargs)\n\u001b[0;32m     72\u001b[0m     \u001b[38;5;28;01mfor\u001b[39;00m delayed_func, args, kwargs \u001b[38;5;129;01min\u001b[39;00m iterable\n\u001b[0;32m     73\u001b[0m )\n\u001b[1;32m---> 74\u001b[0m \u001b[38;5;28;01mreturn\u001b[39;00m \u001b[38;5;28;43msuper\u001b[39;49m\u001b[43m(\u001b[49m\u001b[43m)\u001b[49m\u001b[38;5;241;43m.\u001b[39;49m\u001b[38;5;21;43m__call__\u001b[39;49m\u001b[43m(\u001b[49m\u001b[43miterable_with_config\u001b[49m\u001b[43m)\u001b[49m\n",
      "File \u001b[1;32mc:\\Users\\USER\\AppData\\Local\\Programs\\Python\\Python311\\Lib\\site-packages\\joblib\\parallel.py:1952\u001b[0m, in \u001b[0;36mParallel.__call__\u001b[1;34m(self, iterable)\u001b[0m\n\u001b[0;32m   1946\u001b[0m \u001b[38;5;66;03m# The first item from the output is blank, but it makes the interpreter\u001b[39;00m\n\u001b[0;32m   1947\u001b[0m \u001b[38;5;66;03m# progress until it enters the Try/Except block of the generator and\u001b[39;00m\n\u001b[0;32m   1948\u001b[0m \u001b[38;5;66;03m# reach the first `yield` statement. This starts the aynchronous\u001b[39;00m\n\u001b[0;32m   1949\u001b[0m \u001b[38;5;66;03m# dispatch of the tasks to the workers.\u001b[39;00m\n\u001b[0;32m   1950\u001b[0m \u001b[38;5;28mnext\u001b[39m(output)\n\u001b[1;32m-> 1952\u001b[0m \u001b[38;5;28;01mreturn\u001b[39;00m output \u001b[38;5;28;01mif\u001b[39;00m \u001b[38;5;28mself\u001b[39m\u001b[38;5;241m.\u001b[39mreturn_generator \u001b[38;5;28;01melse\u001b[39;00m \u001b[38;5;28mlist\u001b[39m(output)\n",
      "File \u001b[1;32mc:\\Users\\USER\\AppData\\Local\\Programs\\Python\\Python311\\Lib\\site-packages\\joblib\\parallel.py:1595\u001b[0m, in \u001b[0;36mParallel._get_outputs\u001b[1;34m(self, iterator, pre_dispatch)\u001b[0m\n\u001b[0;32m   1592\u001b[0m     \u001b[38;5;28;01myield\u001b[39;00m\n\u001b[0;32m   1594\u001b[0m     \u001b[38;5;28;01mwith\u001b[39;00m \u001b[38;5;28mself\u001b[39m\u001b[38;5;241m.\u001b[39m_backend\u001b[38;5;241m.\u001b[39mretrieval_context():\n\u001b[1;32m-> 1595\u001b[0m         \u001b[38;5;28;01myield from\u001b[39;00m \u001b[38;5;28mself\u001b[39m\u001b[38;5;241m.\u001b[39m_retrieve()\n\u001b[0;32m   1597\u001b[0m \u001b[38;5;28;01mexcept\u001b[39;00m \u001b[38;5;167;01mGeneratorExit\u001b[39;00m:\n\u001b[0;32m   1598\u001b[0m     \u001b[38;5;66;03m# The generator has been garbage collected before being fully\u001b[39;00m\n\u001b[0;32m   1599\u001b[0m     \u001b[38;5;66;03m# consumed. This aborts the remaining tasks if possible and warn\u001b[39;00m\n\u001b[0;32m   1600\u001b[0m     \u001b[38;5;66;03m# the user if necessary.\u001b[39;00m\n\u001b[0;32m   1601\u001b[0m     \u001b[38;5;28mself\u001b[39m\u001b[38;5;241m.\u001b[39m_exception \u001b[38;5;241m=\u001b[39m \u001b[38;5;28;01mTrue\u001b[39;00m\n",
      "File \u001b[1;32mc:\\Users\\USER\\AppData\\Local\\Programs\\Python\\Python311\\Lib\\site-packages\\joblib\\parallel.py:1707\u001b[0m, in \u001b[0;36mParallel._retrieve\u001b[1;34m(self)\u001b[0m\n\u001b[0;32m   1702\u001b[0m \u001b[38;5;66;03m# If the next job is not ready for retrieval yet, we just wait for\u001b[39;00m\n\u001b[0;32m   1703\u001b[0m \u001b[38;5;66;03m# async callbacks to progress.\u001b[39;00m\n\u001b[0;32m   1704\u001b[0m \u001b[38;5;28;01mif\u001b[39;00m ((\u001b[38;5;28mlen\u001b[39m(\u001b[38;5;28mself\u001b[39m\u001b[38;5;241m.\u001b[39m_jobs) \u001b[38;5;241m==\u001b[39m \u001b[38;5;241m0\u001b[39m) \u001b[38;5;129;01mor\u001b[39;00m\n\u001b[0;32m   1705\u001b[0m     (\u001b[38;5;28mself\u001b[39m\u001b[38;5;241m.\u001b[39m_jobs[\u001b[38;5;241m0\u001b[39m]\u001b[38;5;241m.\u001b[39mget_status(\n\u001b[0;32m   1706\u001b[0m         timeout\u001b[38;5;241m=\u001b[39m\u001b[38;5;28mself\u001b[39m\u001b[38;5;241m.\u001b[39mtimeout) \u001b[38;5;241m==\u001b[39m TASK_PENDING)):\n\u001b[1;32m-> 1707\u001b[0m     time\u001b[38;5;241m.\u001b[39msleep(\u001b[38;5;241m0.01\u001b[39m)\n\u001b[0;32m   1708\u001b[0m     \u001b[38;5;28;01mcontinue\u001b[39;00m\n\u001b[0;32m   1710\u001b[0m \u001b[38;5;66;03m# We need to be careful: the job list can be filling up as\u001b[39;00m\n\u001b[0;32m   1711\u001b[0m \u001b[38;5;66;03m# we empty it and Python list are not thread-safe by\u001b[39;00m\n\u001b[0;32m   1712\u001b[0m \u001b[38;5;66;03m# default hence the use of the lock\u001b[39;00m\n",
      "\u001b[1;31mKeyboardInterrupt\u001b[0m: "
     ]
    }
   ],
   "source": [
    "import numpy as np\n",
    "from sklearn.linear_model import LogisticRegression\n",
    "from sklearn.model_selection import RandomizedSearchCV\n",
    "from scipy.stats import uniform\n",
    "\n",
    "# Define the parameter distribution with solvers that support both 'l1' and 'l2' penalties\n",
    "param_dist = {\n",
    "    \"C\": uniform(loc=0, scale=4),  # Uniform distribution over [0, 4)\n",
    "    \"penalty\": ['l1', 'l2'],\n",
    "    \"solver\": ['liblinear', 'saga']\n",
    "}\n",
    "\n",
    "# Create the RandomizedSearchCV object\n",
    "random_search = RandomizedSearchCV(\n",
    "    estimator=LogisticRegression(random_state=42, max_iter=100),  # Increase max_iter to ensure convergence\n",
    "    param_distributions=param_dist,\n",
    "    n_iter=50,  # Number of parameter settings sampled\n",
    "    scoring=\"accuracy\",\n",
    "    cv=5,  # Reduce the number of cross-validation folds\n",
    "    verbose=0,\n",
    "    n_jobs=-1,\n",
    "    random_state=42\n",
    ")\n",
    "\n",
    "# Fit the random search to the training data\n",
    "random_search.fit(X_train, y_train)\n",
    "\n",
    "# Get the best accuracy and parameters\n",
    "best_accuracy = random_search.best_score_\n",
    "best_parameters = random_search.best_params_\n",
    "\n",
    "print(\"Best Accuracy: {:.2f} %\".format(best_accuracy * 100))\n",
    "print(\"Best Parameters:\", best_parameters)"
   ]
  },
  {
   "cell_type": "markdown",
   "metadata": {
    "id": "t-L20RgIvxlC"
   },
   "source": [
    "*We got a nice accuracy on our training set, which is 94.80% and from our Grid Search, we are also able to find our optimal hyperparameters. It is time to finish our model using these parameters to get the best model of Logistic Regression.*"
   ]
  },
  {
   "cell_type": "markdown",
   "metadata": {
    "id": "XosBBQxgCqpS"
   },
   "source": [
    "**Best Model**"
   ]
  },
  {
   "cell_type": "code",
   "execution_count": null,
   "metadata": {},
   "outputs": [],
   "source": [
    "from sklearn.linear_model import LogisticRegression\n",
    "from sklearn.preprocessing import StandardScaler\n",
    "\n",
    "# Ensure the data is scaled\n",
    "scaler = StandardScaler()\n",
    "X_train_scaled = scaler.fit_transform(X_train)\n",
    "X_test_scaled = scaler.transform(X_test)\n",
    "\n",
    "# Initialize the classifier with the best parameters\n",
    "Classifier = LogisticRegression(random_state=42, C=6866.488450042998, penalty='l2', max_iter=10000)\n",
    "\n",
    "# Fit the classifier to the training data\n",
    "Classifier.fit(X_train_scaled, y_train)\n",
    "\n",
    "# Make predictions on the test data\n",
    "Prediction = Classifier.predict(X_test_scaled)\n",
    "\n",
    "# Output the predictions\n",
    "print(Prediction)"
   ]
  },
  {
   "cell_type": "code",
   "execution_count": null,
   "metadata": {
    "colab": {
     "base_uri": "https://localhost:8080/"
    },
    "id": "jEddDzCQCueI",
    "outputId": "5e9b8850-8eb5-47e9-a03c-0d6615572899"
   },
   "outputs": [
    {
     "name": "stderr",
     "output_type": "stream",
     "text": [
      "c:\\Users\\USER\\AppData\\Local\\Programs\\Python\\Python311\\Lib\\site-packages\\sklearn\\linear_model\\_logistic.py:469: ConvergenceWarning: lbfgs failed to converge (status=1):\n",
      "STOP: TOTAL NO. of ITERATIONS REACHED LIMIT.\n",
      "\n",
      "Increase the number of iterations (max_iter) or scale the data as shown in:\n",
      "    https://scikit-learn.org/stable/modules/preprocessing.html\n",
      "Please also refer to the documentation for alternative solver options:\n",
      "    https://scikit-learn.org/stable/modules/linear_model.html#logistic-regression\n",
      "  n_iter_i = _check_optimize_result(\n"
     ]
    }
   ],
   "source": [
    "# Classifier = LogisticRegression(random_state = 42, C = 6866.488450042998, penalty = 'l2')\n",
    "# Classifier.fit(X_train, y_train)\n",
    "\n",
    "# Prediction = Classifier.predict(X_test)"
   ]
  },
  {
   "cell_type": "markdown",
   "metadata": {
    "id": "OqWMpjL2xCHt"
   },
   "source": [
    "*Now that our model is done, we will test our model on our test set. The metrics that we will evaluate is based on this prediction that we made here.*"
   ]
  },
  {
   "cell_type": "markdown",
   "metadata": {
    "id": "x98T1PtIoESm"
   },
   "source": [
    "**Metrics**"
   ]
  },
  {
   "cell_type": "markdown",
   "metadata": {
    "id": "mPqayCouHxTE"
   },
   "source": [
    "Accuracy On Test Set"
   ]
  },
  {
   "cell_type": "code",
   "execution_count": null,
   "metadata": {
    "colab": {
     "base_uri": "https://localhost:8080/"
    },
    "id": "_SVcygL6Hyj5",
    "outputId": "42d027db-9f5d-4e48-8b15-d44789f2fe58"
   },
   "outputs": [
    {
     "data": {
      "text/plain": [
       "0.7014713870716327"
      ]
     },
     "execution_count": 81,
     "metadata": {},
     "output_type": "execute_result"
    }
   ],
   "source": [
    "# Calculate the accuracy\n",
    "accuracy = accuracy_score(y_test, Prediction)\n",
    "print(\"Accuracy: {:.2f} %\".format(accuracy * 100))"
   ]
  },
  {
   "cell_type": "markdown",
   "metadata": {
    "id": "SovP_zJvxMsE"
   },
   "source": [
    "*Really high accuracy that we got here, 95.21%. Still, we need to look out for the Confusion Matrix and F1 Score to find out about our model performance.*"
   ]
  },
  {
   "cell_type": "markdown",
   "metadata": {
    "id": "yRV__euroIBW"
   },
   "source": [
    "Confusion Matrix"
   ]
  },
  {
   "cell_type": "code",
   "execution_count": null,
   "metadata": {
    "id": "jEKXuliUHYEt"
   },
   "outputs": [],
   "source": [
    "# Calculate the confusion matrix\n",
    "ConfusionMatrix = confusion_matrix(y_test, Prediction)\n",
    "print(\"Confusion Matrix:\\n\", ConfusionMatrix)"
   ]
  },
  {
   "cell_type": "markdown",
   "metadata": {
    "id": "-uy9UJzzHZpn"
   },
   "source": [
    "Visualizing Our Confusion Matrix"
   ]
  },
  {
   "cell_type": "code",
   "execution_count": null,
   "metadata": {
    "id": "ObhVU8GKoF8v"
   },
   "outputs": [],
   "source": [
    "import numpy as np\n",
    "import matplotlib.pyplot as plt\n",
    "\n",
    "# Plotting Function for Confusion Matrix\n",
    "def plot_cm(cm, classes, title='Confusion Matrix', normalized=False, cmap=plt.cm.Blues):\n",
    "    plt.figure(figsize=(10, 7))\n",
    "    plt.imshow(cm, interpolation='nearest', cmap=cmap)\n",
    "    plt.title(title, pad=20)\n",
    "    plt.colorbar()\n",
    "    tick_marks = np.arange(len(classes))\n",
    "    plt.xticks(tick_marks, classes, rotation=45)\n",
    "    plt.yticks(tick_marks, classes)\n",
    "\n",
    "    if normalized:\n",
    "        cm = cm.astype('float') / cm.sum(axis=1)[:, np.newaxis]\n",
    "        print(\"Normalized Confusion Matrix\")\n",
    "    else:\n",
    "        print(\"Unnormalized Confusion Matrix\")\n",
    "\n",
    "    threshold = cm.max() / 2\n",
    "    for i in range(cm.shape[0]):\n",
    "        for j in range(cm.shape[1]):\n",
    "            plt.text(j, i, format(cm[i, j], '.2f') if normalized else int(cm[i, j]),\n",
    "                     horizontalalignment=\"center\",\n",
    "                     color=\"white\" if cm[i, j] > threshold else \"black\")\n",
    "\n",
    "    plt.tight_layout()\n",
    "    plt.xlabel(\"Predicted Label\", labelpad=20)\n",
    "    plt.ylabel(\"True Label\", labelpad=20)\n",
    "    plt.show()\n",
    "\n",
    "# Example usage\n",
    "from sklearn.metrics import confusion_matrix\n",
    "\n",
    "# Assuming y_test and Prediction are defined\n",
    "ConfusionMatrix = confusion_matrix(y_test, Prediction)\n",
    "plot_cm(ConfusionMatrix, classes=['Class 0', 'Class 1'], title='Confusion Matrix')"
   ]
  },
  {
   "cell_type": "code",
   "execution_count": null,
   "metadata": {
    "colab": {
     "base_uri": "https://localhost:8080/",
     "height": 344
    },
    "id": "fOwaQnIbIxS4",
    "outputId": "9893e164-92fe-4f72-8714-5754cb977f34"
   },
   "outputs": [
    {
     "name": "stdout",
     "output_type": "stream",
     "text": [
      "Unnormalized Confusion Matrix\n"
     ]
    },
    {
     "data": {
      "image/png": "[encoded data removed]",
      "text/plain": [
       "<Figure size 640x480 with 2 Axes>"
      ]
     },
     "metadata": {},
     "output_type": "display_data"
    }
   ],
   "source": [
    "# Plot the confusion matrix\n",
    "plot_cm(ConfusionMatrix, classes=[\"Positive\", \"Neutral\", \"Negative\"], title=\"Confusion Matrix of Sentiment Analysis\")\n"
   ]
  },
  {
   "cell_type": "markdown",
   "metadata": {
    "id": "MO_uuTkHyAbw"
   },
   "source": [
    "*What we can gain from the Confusion Matrix above is that the model overall works well. It is able to categorize both positive and neutral sentiments correctly, while it seems to struggle a bit at determining negative sentiments. Of course, this is the effect of imbalanced data that we got from our original dataset, and luckily we can minimize the effect thanks to our SMOTE resampling before.*"
   ]
  },
  {
   "cell_type": "markdown",
   "metadata": {
    "id": "VSqWDmE6zEf2"
   },
   "source": [
    "Classification Scores"
   ]
  },
  {
   "cell_type": "code",
   "execution_count": null,
   "metadata": {
    "colab": {
     "base_uri": "https://localhost:8080/"
    },
    "id": "YMmXVR2rzIEB",
    "outputId": "953efef7-c6c6-4f5e-ef5f-a4259ab7f3b6"
   },
   "outputs": [
    {
     "name": "stdout",
     "output_type": "stream",
     "text": [
      "              precision    recall  f1-score   support\n",
      "\n",
      "           0       0.85      0.60      0.70     14075\n",
      "           1       0.57      0.84      0.68     14291\n",
      "           2       0.81      0.67      0.73     13975\n",
      "\n",
      "    accuracy                           0.70     42341\n",
      "   macro avg       0.74      0.70      0.70     42341\n",
      "weighted avg       0.74      0.70      0.70     42341\n",
      "\n"
     ]
    }
   ],
   "source": [
    "# Print the classification report\n",
    "print(\"Classification Report:\\n\", classification_report(y_test, Prediction, target_names=[\"Positive\", \"Neutral\", \"Negative\"]))"
   ]
  },
  {
   "cell_type": "markdown",
   "metadata": {
    "id": "9gKBKMVWzfu-"
   },
   "source": [
    "*Overall, to each of our sentiment categories, we got F1 Score of 95%, which is great and because of that we can conclude that our model works well on the dataset.*"
   ]
  },
  {
   "cell_type": "markdown",
   "metadata": {
    "id": "GUjks_Ps42E_"
   },
   "source": [
    "\n",
    "\n",
    "---\n",
    "\n"
   ]
  },
  {
   "cell_type": "markdown",
   "metadata": {
    "id": "-voe6yFbz9sw"
   },
   "source": [
    "# Conclusion"
   ]
  },
  {
   "cell_type": "markdown",
   "metadata": {
    "id": "VZ0SJ-lA0AAU"
   },
   "source": [
    "**Dataset**"
   ]
  },
  {
   "cell_type": "markdown",
   "metadata": {
    "id": "trUlnA_30Erh"
   },
   "source": [
    "\n",
    "\n",
    "1.   Our dataset contains many features about user reviews on musical instruments. But, we rarely need those features as our model variables because those features are not really important for sentiment analysis.\n",
    "2.   We might need to omit our part of removing stopwords in our preprocessing phase, because there might be some important words in determining user sentiments in our model.\n",
    "3.   From our text analysis, we know that most of the transactions made are related to guitars or other string-based instruments. We can say that guitar got a really high attention from the customers' pool and the sellers can emphasize their products on this instruments.\n",
    "\n"
   ]
  },
  {
   "cell_type": "markdown",
   "metadata": {
    "id": "ZwivYWyw1bSf"
   },
   "source": [
    "**Model**"
   ]
  },
  {
   "cell_type": "markdown",
   "metadata": {
    "id": "UCmxb-KG1dOK"
   },
   "source": [
    "\n",
    "\n",
    "1.   We tried almost all classification models available. By using 10-Fold Cross Validation, we get that Logistic Regression Model got the best accuracy and we decided to use this model and tune it.\n",
    "2.   On our attempt on making prediction to our test set, we also received a nice accuracy and high F1 Score. This means that our model works well on sentiment analysis.\n",
    "3.   We need to consider more Cross Validation Method, such as Stratified K-Fold so that we do not really need to do resampling on our dataset. Also, we are fine without data scaling, but it is highly suggested to do it.\n",
    "\n"
   ]
  },
  {
   "cell_type": "markdown",
   "metadata": {
    "id": "QDLJSURW43qO"
   },
   "source": [
    "\n",
    "\n",
    "---\n",
    "\n"
   ]
  },
  {
   "cell_type": "markdown",
   "metadata": {
    "id": "XIJnzRkj58Br"
   },
   "source": [
    "# Sources of Learning"
   ]
  },
  {
   "cell_type": "markdown",
   "metadata": {
    "id": "2WnumZ2o5-WB"
   },
   "source": [
    "*These articles and notebooks are great and really useful for sentiment analysis and NLP. Check it out!*"
   ]
  },
  {
   "cell_type": "markdown",
   "metadata": {
    "id": "VshiJBSd6ORy"
   },
   "source": [
    "\n",
    "\n",
    "1.   [Text Preprocessing in Python: Steps, Tools, and Examples](https://medium.com/@datamonsters/text-preprocessing-in-python-steps-tools-and-examples-bf025f872908)\n",
    "2.   [Sentiment Analysis — ML project from Scratch to Production (Web Application)](https://medium.com/towards-artificial-intelligence/sentiment-analysis-from-scratch-to-production-web-api-3382f19748e8)\n",
    "3.   [Updated Text Preprocessing techniques for Sentiment Analysis](https://towardsdatascience.com/updated-text-preprocessing-techniques-for-sentiment-analysis-549af7fe412a)\n",
    "4.   [Amazon Instrument: Sentimental Analysis](https://www.kaggle.com/nayansakhiya/amazon-instrument-sentimental-analysis)\n",
    "5.   [Sentiment Analysis | Amazon reviews](https://www.kaggle.com/benroshan/sentiment-analysis-amazon-reviews#Story-Generation-and-Visualization-from-reviews)\n",
    "6.   [SMOTE for Imbalanced Classification with Python](https://machinelearningmastery.com/smote-oversampling-for-imbalanced-classification/)"
   ]
  },
  {
   "cell_type": "markdown",
   "metadata": {
    "id": "DWVlYwh0kcGH"
   },
   "source": [
    "*Other Documentations*:\n",
    "1. Pandas\n",
    "2. Matplotlib\n",
    "3. Scikit-Learn\n",
    "4. Natural Language Toolkit"
   ]
  },
  {
   "cell_type": "markdown",
   "metadata": {
    "id": "n_QgezcR45IX"
   },
   "source": [
    "\n",
    "\n",
    "---\n",
    "\n"
   ]
  },
  {
   "cell_type": "markdown",
   "metadata": {},
   "source": []
  },
  {
   "cell_type": "markdown",
   "metadata": {},
   "source": []
  },
  {
   "cell_type": "markdown",
   "metadata": {},
   "source": []
  },
  {
   "cell_type": "markdown",
   "metadata": {},
   "source": []
  },
  {
   "cell_type": "markdown",
   "metadata": {},
   "source": []
  },
  {
   "cell_type": "markdown",
   "metadata": {},
   "source": []
  },
  {
   "cell_type": "markdown",
   "metadata": {},
   "source": []
  },
  {
   "cell_type": "markdown",
   "metadata": {},
   "source": []
  },
  {
   "cell_type": "markdown",
   "metadata": {},
   "source": []
  },
  {
   "cell_type": "markdown",
   "metadata": {},
   "source": []
  },
  {
   "cell_type": "markdown",
   "metadata": {},
   "source": []
  },
  {
   "cell_type": "markdown",
   "metadata": {},
   "source": []
  },
  {
   "cell_type": "markdown",
   "metadata": {},
   "source": []
  },
  {
   "cell_type": "markdown",
   "metadata": {},
   "source": []
  },
  {
   "cell_type": "markdown",
   "metadata": {},
   "source": []
  },
  {
   "cell_type": "markdown",
   "metadata": {},
   "source": []
  }
 ],
 "metadata": {
  "colab": {
   "name": "Sentiment Analysis.ipynb",
   "provenance": [],
   "toc_visible": true
  },
  "kernelspec": {
   "display_name": "Python 3",
   "name": "python3"
  },
  "language_info": {
   "codemirror_mode": {
    "name": "ipython",
    "version": 3
   },
   "file_extension": ".py",
   "mimetype": "text/x-python",
   "name": "python",
   "nbconvert_exporter": "python",
   "pygments_lexer": "ipython3",
   "version": "3.11.4"
  }
 },
 "nbformat": 4,
 "nbformat_minor": 0
}
